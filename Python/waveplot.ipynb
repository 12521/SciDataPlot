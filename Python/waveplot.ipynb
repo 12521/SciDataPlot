{
 "cells": [
  {
   "cell_type": "code",
   "execution_count": null,
   "metadata": {},
   "outputs": [],
   "source": [
    "import numpy as np\n",
    "import matplotlib.pyplot as plt\n",
    "import matplotlib as mpl\n",
    "from matplotlib.ticker import MultipleLocator\n",
    "import os\n",
    "plt.rcParams['ytick.right']  =plt.rcParams['xtick.top'] =True\n",
    "xminorLocator=MultipleLocator(2)\n",
    "#plt.rcParams['set_minor_locator']=xminorLocator\n",
    "# It's also possible to use the reduced notation by directly setting font.family:\n",
    "plt.rcParams.update({\n",
    "  \"text.usetex\": True,\n",
    "  \"font.family\": \"Time New Roman\",\n",
    "  \"font.size\": 8,\n",
    "})\n",
    "\n",
    "def cm2inch(value):\n",
    "    return value/2.54\n",
    "\n",
    "plt.rcParams['figure.figsize'] = (cm2inch(8), cm2inch(6.5))\n",
    "#plt.rcParams['figure.figsize'] =(4,3)#(3.5,2.5)\n",
    "plt.rcParams['lines.linewidth'] = 1\n",
    "plt.rcParams['xtick.direction'] = 'in'\n",
    "plt.rcParams['ytick.direction'] = 'in'\n",
    "from mpl_toolkits.mplot3d import Axes3D\n",
    "\n",
    "levels=100\n",
    "figureDPI=1200\n",
    "figureType=\"jpeg\"\n",
    "timeUnit=\"fs\"\n",
    "dir='D:\\\\doc\\\\data\\\\ion\\\\'"
   ]
  },
  {
   "cell_type": "code",
   "execution_count": null,
   "metadata": {},
   "outputs": [],
   "source": [
    "data1=np.loadtxt(\"D:\\\\doc\\\\data\\\\ion1testold\\\\PreAlign\\\\pop.dat\")\n",
    "data2=np.loadtxt(\"D:\\\\doc\\\\data\\\\ori\\\\oritest1\\\\cos2s.dat\")\n",
    "x1=data1[:,0]\n",
    "y1=data1[:,1]\n",
    "x2=data2[:,0]\n",
    "y2=data2[:,1]\n",
    "plt.plot(x2,y2)\n",
    "fig, ax1 = plt.subplots()\n",
    "color = 'tab:red'\n",
    "ax1.set_xlim([450,3050])\n",
    "ax1.set_ylim([0.32,0.67])\n",
    "ax1.set_xlabel('$t$, $t_{\\\\rm{pa}}$ (fs)')\n",
    "ax1.set_ylabel('Ionization probability', color=color)\n",
    "ax1.scatter(x1, y1, color=color,marker=\".\")\n",
    "ax1.tick_params(axis='y', labelcolor=color)\n",
    "\n",
    "ax2 = ax1.twinx()  # instantiate a second axes that shares the same x-axis\n",
    "\n",
    "color = 'tab:blue'\n",
    "ax2.set_xlim([450,3050])\n",
    "ax2.set_ylim([0.32,0.73])\n",
    "ax2.set_ylabel('$\\\\langle{\\\\rm cos^2} \\\\theta \\\\rangle$', color=color)  # we already handled the x-label with ax1\n",
    "ax2.plot(x2, y2,'--', color=color)\n",
    "ax2.tick_params(axis='y', labelcolor=color)\n",
    "\n",
    "fig.tight_layout()  # otherwise the right y-label is slightly clipped\n",
    "plt.savefig(dir+\"f2AliAndPopVSTime.\"+figureType,bbox_inches = 'tight',dpi=figureDPI)\n",
    "plt.show()\n",
    "import os \n",
    "os.startfile(dir+\"f2AliAndPopVSTime.\"+figureType)"
   ]
  },
  {
   "cell_type": "code",
   "execution_count": null,
   "metadata": {},
   "outputs": [],
   "source": [
    "plt.figure(figsize=(cm2inch(24),cm2inch(18)))\n",
    "data1=np.loadtxt('D:\\\\doc\\\\data\\\\ion1test\\\\ali\\\\totalangdis.dat')\n",
    "data2=np.loadtxt('D:\\\\doc\\\\data\\\\ion1test\\\\OnlyPump\\\\totalangdis.dat')\n",
    "data3=np.loadtxt('D:\\\\doc\\\\data\\\\ion1testold\\\\1140fs\\\\10\\\\totalangdis.dat')\n",
    "import matplotlib.gridspec as gridspec\n",
    "fig = plt.figure(tight_layout=True)\n",
    "gs = gridspec.GridSpec(2, 2)\n",
    "ax = fig.add_subplot(gs[0,:])\n",
    "x=data1[:,0]\n",
    "y=data1[:,1]\n",
    "z=data1[:,2]\n",
    "plt.xlabel(\"Time (fs)\")\n",
    "plt.ylabel(\"$\\\\theta$ (degrees)\")\n",
    "ax.tricontourf(x,y,z,levels,cmap='jet')\n",
    "ax = fig.add_subplot(gs[1, 0])\n",
    "x=data2[:,0]\n",
    "y=data2[:,1]\n",
    "z=data2[:,2]\n",
    "plt.xlim(1620,1680)\n",
    "ax.tricontourf(x,y,z,levels,cmap='jet')\n",
    "plt.xlabel(\"Time (fs)\")\n",
    "plt.ylabel(\"$\\\\theta$ (degrees)\")\n",
    "for tick in ax.get_yticklabels():\n",
    "    tick.set_rotation(55)\n",
    "ax = fig.add_subplot(gs[1, 1])\n",
    "x=data3[:,0]\n",
    "y=data3[:,1]\n",
    "z=data3[:,2]\n",
    "plt.xlim(1620,1680)\n",
    "ax.tricontourf(x,y,z,levels,cmap='jet')\n",
    "plt.xlabel(\"Time (fs)\")\n",
    "plt.ylabel(\"$\\\\theta$ (degrees)\")\n",
    "for tick in ax.get_yticklabels():\n",
    "    tick.set_rotation(55)\n",
    "\n",
    "plt.savefig(dir+'f3Wave.'+figureType,bbox_inches = 'tight',dpi=figureDPI)"
   ]
  },
  {
   "cell_type": "code",
   "execution_count": null,
   "metadata": {},
   "outputs": [],
   "source": [
    "plt.figure(figsize=(cm2inch(8),cm2inch(6.5)))\n",
    "x= np.arange(0, 2, 0.01)\n",
    "y=np.sin(x)\n",
    "plt.plot(x,y)"
   ]
  }
 ],
 "metadata": {
  "kernelspec": {
   "display_name": "Python 3.9.0 64-bit",
   "language": "python",
   "name": "python3"
  },
  "language_info": {
   "codemirror_mode": {
    "name": "ipython",
    "version": 3
   },
   "file_extension": ".py",
   "mimetype": "text/x-python",
   "name": "python",
   "nbconvert_exporter": "python",
   "pygments_lexer": "ipython3",
   "version": "3.9.0"
  },
  "orig_nbformat": 4,
  "vscode": {
   "interpreter": {
    "hash": "5addf786bcd861d1ce5006f23111f8cbb206731e5b61b0a5632ba9e0252558a8"
   }
  }
 },
 "nbformat": 4,
 "nbformat_minor": 2
}
