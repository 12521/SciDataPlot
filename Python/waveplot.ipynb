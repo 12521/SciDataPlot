{
 "cells": [
  {
   "cell_type": "code",
   "execution_count": 1,
   "metadata": {},
   "outputs": [],
   "source": [
    "import numpy as np\n",
    "import matplotlib.pyplot as plt\n",
    "import matplotlib as mpl\n",
    "from matplotlib.ticker import MultipleLocator\n",
    "import os\n",
    "plt.rcParams['ytick.right']  =plt.rcParams['xtick.top'] =True\n",
    "xminorLocator=MultipleLocator(2)\n",
    "#plt.rcParams['set_minor_locator']=xminorLocator\n",
    "# It's also possible to use the reduced notation by directly setting font.family:\n",
    "plt.rcParams.update({\n",
    "  \"text.usetex\": True,\n",
    "  \"font.family\": \"Time New Roman\",\n",
    "  \"font.size\": 8,\n",
    "})\n",
    "\n",
    "def cm2inch(value):\n",
    "    return value/2.54\n",
    "\n",
    "plt.rcParams['figure.figsize'] = (cm2inch(8), cm2inch(6.5))\n",
    "#plt.rcParams['figure.figsize'] =(4,3)#(3.5,2.5)\n",
    "plt.rcParams['lines.linewidth'] = 1\n",
    "plt.rcParams['xtick.direction'] = 'in'\n",
    "plt.rcParams['ytick.direction'] = 'in'\n",
    "from mpl_toolkits.mplot3d import Axes3D\n",
    "\n",
    "levels=100\n",
    "figureDPI=1200\n",
    "figureType=\"jpeg\"\n",
    "timeUnit=\"fs\"\n",
    "dir='D:\\\\doc\\\\data\\\\ion\\\\'"
   ]
  },
  {
   "cell_type": "code",
   "execution_count": 2,
   "metadata": {},
   "outputs": [
    {
     "data": {
      "image/png": "[encoded data removed]",
      "text/plain": [
       "<Figure size 226.772x184.252 with 1 Axes>"
      ]
     },
     "metadata": {
      "needs_background": "light"
     },
     "output_type": "display_data"
    },
    {
     "data": {
      "image/png": "[encoded data removed]",
      "text/plain": [
       "<Figure size 226.772x184.252 with 2 Axes>"
      ]
     },
     "metadata": {
      "needs_background": "light"
     },
     "output_type": "display_data"
    }
   ],
   "source": [
    "data1=np.loadtxt(\"D:\\\\doc\\\\data\\\\ion1testold\\\\PreAlign\\\\pop.dat\")\n",
    "data2=np.loadtxt(\"D:\\\\doc\\\\data\\\\ori\\\\oritest1\\\\cos2s.dat\")\n",
    "x1=data1[:,0]\n",
    "y1=data1[:,1]\n",
    "x2=data2[:,0]\n",
    "y2=data2[:,1]\n",
    "plt.plot(x2,y2)\n",
    "fig, ax1 = plt.subplots()\n",
    "color = 'tab:red'\n",
    "ax1.set_xlim([450,3050])\n",
    "ax1.set_ylim([0.32,0.67])\n",
    "ax1.set_xlabel('$t$, $t_{\\\\rm{pa}}$ (fs)')\n",
    "ax1.set_ylabel('Ionization probability', color=color)\n",
    "ax1.scatter(x1, y1, color=color,marker=\".\")\n",
    "ax1.tick_params(axis='y', labelcolor=color)\n",
    "\n",
    "ax2 = ax1.twinx()  # instantiate a second axes that shares the same x-axis\n",
    "\n",
    "color = 'tab:blue'\n",
    "ax2.set_xlim([450,3050])\n",
    "ax2.set_ylim([0.32,0.73])\n",
    "ax2.set_ylabel('$\\\\langle{\\\\rm cos^2} \\\\theta \\\\rangle$', color=color)  # we already handled the x-label with ax1\n",
    "ax2.plot(x2, y2,'--', color=color)\n",
    "ax2.tick_params(axis='y', labelcolor=color)\n",
    "\n",
    "fig.tight_layout()  # otherwise the right y-label is slightly clipped\n",
    "plt.savefig(dir+\"f2AliAndPopVSTime.\"+figureType,bbox_inches = 'tight',dpi=figureDPI)\n",
    "plt.show()\n",
    "import os \n",
    "os.startfile(dir+\"f2AliAndPopVSTime.\"+figureType)"
   ]
  },
  {
   "cell_type": "code",
   "execution_count": 3,
   "metadata": {},
   "outputs": [
    {
     "ename": "FileNotFoundError",
     "evalue": "D:\\doc\\data\\ion1test\\ali\\totalangdis.dat not found.",
     "output_type": "error",
     "traceback": [
      "\u001b[1;31m---------------------------------------------------------------------------\u001b[0m",
      "\u001b[1;31mFileNotFoundError\u001b[0m                         Traceback (most recent call last)",
      "\u001b[1;32md:\\github\\SciDataPlot\\Python\\waveplot.ipynb Cell 3\u001b[0m in \u001b[0;36m<cell line: 2>\u001b[1;34m()\u001b[0m\n\u001b[0;32m      <a href='vscode-notebook-cell:/d%3A/github/SciDataPlot/Python/waveplot.ipynb#W2sZmlsZQ%3D%3D?line=0'>1</a>\u001b[0m plt\u001b[39m.\u001b[39mfigure(figsize\u001b[39m=\u001b[39m(cm2inch(\u001b[39m24\u001b[39m),cm2inch(\u001b[39m18\u001b[39m)))\n\u001b[1;32m----> <a href='vscode-notebook-cell:/d%3A/github/SciDataPlot/Python/waveplot.ipynb#W2sZmlsZQ%3D%3D?line=1'>2</a>\u001b[0m data1\u001b[39m=\u001b[39mnp\u001b[39m.\u001b[39;49mloadtxt(\u001b[39m'\u001b[39;49m\u001b[39mD:\u001b[39;49m\u001b[39m\\\\\u001b[39;49;00m\u001b[39mdoc\u001b[39;49m\u001b[39m\\\\\u001b[39;49;00m\u001b[39mdata\u001b[39;49m\u001b[39m\\\\\u001b[39;49;00m\u001b[39mion1test\u001b[39;49m\u001b[39m\\\\\u001b[39;49;00m\u001b[39mali\u001b[39;49m\u001b[39m\\\\\u001b[39;49;00m\u001b[39mtotalangdis.dat\u001b[39;49m\u001b[39m'\u001b[39;49m)\n\u001b[0;32m      <a href='vscode-notebook-cell:/d%3A/github/SciDataPlot/Python/waveplot.ipynb#W2sZmlsZQ%3D%3D?line=2'>3</a>\u001b[0m data2\u001b[39m=\u001b[39mnp\u001b[39m.\u001b[39mloadtxt(\u001b[39m'\u001b[39m\u001b[39mD:\u001b[39m\u001b[39m\\\\\u001b[39;00m\u001b[39mdoc\u001b[39m\u001b[39m\\\\\u001b[39;00m\u001b[39mdata\u001b[39m\u001b[39m\\\\\u001b[39;00m\u001b[39mion1test\u001b[39m\u001b[39m\\\\\u001b[39;00m\u001b[39mOnlyPump\u001b[39m\u001b[39m\\\\\u001b[39;00m\u001b[39mtotalangdis.dat\u001b[39m\u001b[39m'\u001b[39m)\n\u001b[0;32m      <a href='vscode-notebook-cell:/d%3A/github/SciDataPlot/Python/waveplot.ipynb#W2sZmlsZQ%3D%3D?line=3'>4</a>\u001b[0m data3\u001b[39m=\u001b[39mnp\u001b[39m.\u001b[39mloadtxt(\u001b[39m'\u001b[39m\u001b[39mD:\u001b[39m\u001b[39m\\\\\u001b[39;00m\u001b[39mdoc\u001b[39m\u001b[39m\\\\\u001b[39;00m\u001b[39mdata\u001b[39m\u001b[39m\\\\\u001b[39;00m\u001b[39mion1testold\u001b[39m\u001b[39m\\\\\u001b[39;00m\u001b[39m1140fs\u001b[39m\u001b[39m\\\\\u001b[39;00m\u001b[39m10\u001b[39m\u001b[39m\\\\\u001b[39;00m\u001b[39mtotalangdis.dat\u001b[39m\u001b[39m'\u001b[39m)\n",
      "File \u001b[1;32mc:\\Users\\DELL\\AppData\\Local\\Programs\\Python\\Python39\\lib\\site-packages\\numpy\\lib\\npyio.py:1042\u001b[0m, in \u001b[0;36mloadtxt\u001b[1;34m(fname, dtype, comments, delimiter, converters, skiprows, usecols, unpack, ndmin, encoding, max_rows, like)\u001b[0m\n\u001b[0;32m   1040\u001b[0m     fname \u001b[39m=\u001b[39m os_fspath(fname)\n\u001b[0;32m   1041\u001b[0m \u001b[39mif\u001b[39;00m _is_string_like(fname):\n\u001b[1;32m-> 1042\u001b[0m     fh \u001b[39m=\u001b[39m np\u001b[39m.\u001b[39;49mlib\u001b[39m.\u001b[39;49m_datasource\u001b[39m.\u001b[39;49mopen(fname, \u001b[39m'\u001b[39;49m\u001b[39mrt\u001b[39;49m\u001b[39m'\u001b[39;49m, encoding\u001b[39m=\u001b[39;49mencoding)\n\u001b[0;32m   1043\u001b[0m     fencoding \u001b[39m=\u001b[39m \u001b[39mgetattr\u001b[39m(fh, \u001b[39m'\u001b[39m\u001b[39mencoding\u001b[39m\u001b[39m'\u001b[39m, \u001b[39m'\u001b[39m\u001b[39mlatin1\u001b[39m\u001b[39m'\u001b[39m)\n\u001b[0;32m   1044\u001b[0m     line_iter \u001b[39m=\u001b[39m \u001b[39miter\u001b[39m(fh)\n",
      "File \u001b[1;32mc:\\Users\\DELL\\AppData\\Local\\Programs\\Python\\Python39\\lib\\site-packages\\numpy\\lib\\_datasource.py:193\u001b[0m, in \u001b[0;36mopen\u001b[1;34m(path, mode, destpath, encoding, newline)\u001b[0m\n\u001b[0;32m    156\u001b[0m \u001b[39m\"\"\"\u001b[39;00m\n\u001b[0;32m    157\u001b[0m \u001b[39mOpen `path` with `mode` and return the file object.\u001b[39;00m\n\u001b[0;32m    158\u001b[0m \n\u001b[1;32m   (...)\u001b[0m\n\u001b[0;32m    189\u001b[0m \n\u001b[0;32m    190\u001b[0m \u001b[39m\"\"\"\u001b[39;00m\n\u001b[0;32m    192\u001b[0m ds \u001b[39m=\u001b[39m DataSource(destpath)\n\u001b[1;32m--> 193\u001b[0m \u001b[39mreturn\u001b[39;00m ds\u001b[39m.\u001b[39;49mopen(path, mode, encoding\u001b[39m=\u001b[39;49mencoding, newline\u001b[39m=\u001b[39;49mnewline)\n",
      "File \u001b[1;32mc:\\Users\\DELL\\AppData\\Local\\Programs\\Python\\Python39\\lib\\site-packages\\numpy\\lib\\_datasource.py:532\u001b[0m, in \u001b[0;36mDataSource.open\u001b[1;34m(self, path, mode, encoding, newline)\u001b[0m\n\u001b[0;32m    529\u001b[0m     \u001b[39mreturn\u001b[39;00m _file_openers[ext](found, mode\u001b[39m=\u001b[39mmode,\n\u001b[0;32m    530\u001b[0m                               encoding\u001b[39m=\u001b[39mencoding, newline\u001b[39m=\u001b[39mnewline)\n\u001b[0;32m    531\u001b[0m \u001b[39melse\u001b[39;00m:\n\u001b[1;32m--> 532\u001b[0m     \u001b[39mraise\u001b[39;00m \u001b[39mFileNotFoundError\u001b[39;00m(\u001b[39mf\u001b[39m\u001b[39m\"\u001b[39m\u001b[39m{\u001b[39;00mpath\u001b[39m}\u001b[39;00m\u001b[39m not found.\u001b[39m\u001b[39m\"\u001b[39m)\n",
      "\u001b[1;31mFileNotFoundError\u001b[0m: D:\\doc\\data\\ion1test\\ali\\totalangdis.dat not found."
     ]
    },
    {
     "data": {
      "text/plain": [
       "<Figure size 680.315x510.236 with 0 Axes>"
      ]
     },
     "metadata": {},
     "output_type": "display_data"
    }
   ],
   "source": [
    "plt.figure(figsize=(cm2inch(24),cm2inch(18)))\n",
    "data1=np.loadtxt('D:\\\\doc\\\\data\\\\ion1test\\\\ali\\\\totalangdis.dat')\n",
    "data2=np.loadtxt('D:\\\\doc\\\\data\\\\ion1test\\\\OnlyPump\\\\totalangdis.dat')\n",
    "data3=np.loadtxt('D:\\\\doc\\\\data\\\\ion1testold\\\\1140fs\\\\10\\\\totalangdis.dat')\n",
    "import matplotlib.gridspec as gridspec\n",
    "fig = plt.figure(tight_layout=True)\n",
    "gs = gridspec.GridSpec(2, 2)\n",
    "ax = fig.add_subplot(gs[0,:])\n",
    "x=data1[:,0]\n",
    "y=data1[:,1]\n",
    "z=data1[:,2]\n",
    "plt.xlabel(\"Time (fs)\")\n",
    "plt.ylabel(\"$\\\\theta$ (degrees)\")\n",
    "ax.tricontourf(x,y,z,levels,cmap='jet')\n",
    "ax = fig.add_subplot(gs[1, 0])\n",
    "x=data2[:,0]\n",
    "y=data2[:,1]\n",
    "z=data2[:,2]\n",
    "plt.xlim(1620,1680)\n",
    "ax.tricontourf(x,y,z,levels,cmap='jet')\n",
    "plt.xlabel(\"Time (fs)\")\n",
    "plt.ylabel(\"$\\\\theta$ (degrees)\")\n",
    "for tick in ax.get_yticklabels():\n",
    "    tick.set_rotation(55)\n",
    "ax = fig.add_subplot(gs[1, 1])\n",
    "x=data3[:,0]\n",
    "y=data3[:,1]\n",
    "z=data3[:,2]\n",
    "plt.xlim(1620,1680)\n",
    "ax.tricontourf(x,y,z,levels,cmap='jet')\n",
    "plt.xlabel(\"Time (fs)\")\n",
    "plt.ylabel(\"$\\\\theta$ (degrees)\")\n",
    "for tick in ax.get_yticklabels():\n",
    "    tick.set_rotation(55)\n",
    "\n",
    "plt.savefig(dir+'f3Wave.'+figureType,bbox_inches = 'tight',dpi=figureDPI)"
   ]
  },
  {
   "cell_type": "code",
   "execution_count": null,
   "metadata": {},
   "outputs": [
    {
     "data": {
      "text/plain": [
       "[<matplotlib.lines.Line2D at 0x2154e74cee0>]"
      ]
     },
     "execution_count": 5,
     "metadata": {},
     "output_type": "execute_result"
    },
    {
     "data": {
      "image/png": "[encoded data removed]",
      "text/plain": [
       "<Figure size 226.772x184.252 with 1 Axes>"
      ]
     },
     "metadata": {
      "needs_background": "light"
     },
     "output_type": "display_data"
    }
   ],
   "source": [
    "plt.figure(figsize=(cm2inch(8),cm2inch(6.5)))\n",
    "x= np.arange(0, 2, 0.01)\n",
    "y=np.sin(x)\n",
    "plt.plot(x,y)"
   ]
  }
 ],
 "metadata": {
  "kernelspec": {
   "display_name": "Python 3.9.0 64-bit",
   "language": "python",
   "name": "python3"
  },
  "language_info": {
   "codemirror_mode": {
    "name": "ipython",
    "version": 3
   },
   "file_extension": ".py",
   "mimetype": "text/x-python",
   "name": "python",
   "nbconvert_exporter": "python",
   "pygments_lexer": "ipython3",
   "version": "3.9.0"
  },
  "orig_nbformat": 4,
  "vscode": {
   "interpreter": {
    "hash": "5addf786bcd861d1ce5006f23111f8cbb206731e5b61b0a5632ba9e0252558a8"
   }
  }
 },
 "nbformat": 4,
 "nbformat_minor": 2
}
