{
 "cells": [
  {
   "cell_type": "code",
   "execution_count": null,
   "metadata": {},
   "outputs": [],
   "source": [
    "data=np.loadtxt(dir+\"filename\")\n",
    "#dir: the path to the file,filename: the name of the file\n",
    "x=data[:,0]#First columns of the data file\n",
    "y=data[:,1]#Second columns\n",
    "z=data[:,2]#Third columns\n",
    "plt.xlim(min(x),max(x))#(xMin, xMax)\n",
    "plt.ylim(min(y),max(y))#(yMin, yMax)\n",
    "ax=plt.tricontourf(x,y,z,100,cmap='jet')#100: the level of the contourf\n",
    "plt.colorbar()#The legend of the contourf\n",
    "plt.xlabel(\"xLable\")#label for the x tick\n",
    "plt.ylabel(\"yLable\")#label for the y tick"
   ]
  }
 ],
 "metadata": {
  "kernelspec": {
   "display_name": "Python 3.9.0 64-bit",
   "language": "python",
   "name": "python3"
  },
  "language_info": {
   "name": "python",
   "version": "3.9.0"
  },
  "orig_nbformat": 4,
  "vscode": {
   "interpreter": {
    "hash": "5addf786bcd861d1ce5006f23111f8cbb206731e5b61b0a5632ba9e0252558a8"
   }
  }
 },
 "nbformat": 4,
 "nbformat_minor": 2
}
