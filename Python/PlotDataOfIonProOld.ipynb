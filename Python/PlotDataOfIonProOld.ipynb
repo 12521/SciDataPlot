{
 "cells": [
  {
   "cell_type": "markdown",
   "metadata": {},
   "source": [
    "# Plot the data of \"ion1testold\""
   ]
  },
  {
   "cell_type": "markdown",
   "metadata": {},
   "source": [
    " Import Packets and Set Gengeric Information, parameters"
   ]
  },
  {
   "cell_type": "code",
   "execution_count": null,
   "metadata": {},
   "outputs": [],
   "source": [
    "import numpy as np\n",
    "import matplotlib.pyplot as plt\n",
    "import matplotlib as mpl\n",
    "from matplotlib.ticker import MultipleLocator\n",
    "plt.rcParams['ytick.right']  =plt.rcParams['xtick.top'] =True\n",
    "xminorLocator=MultipleLocator(2)\n",
    "#plt.rcParams['set_minor_locator']=xminorLocator\n",
    "plt.rcParams.update({\n",
    "    \"text.usetex\": True,\n",
    "    \"font.family\": \"sans-serif\",\n",
    "    \"font.sans-serif\": [\"TimeNewroman\"]})\n",
    "# for Palatino and other serif fonts use:\n",
    "plt.rcParams.update({\n",
    "    \"text.usetex\": True,\n",
    "    \"font.family\": \"serif\",\n",
    "    \"font.serif\": [\"Palatino\"],\n",
    "})\n",
    "# It's also possible to use the reduced notation by directly setting font.family:\n",
    "plt.rcParams.update({\n",
    "  \"text.usetex\": True,\n",
    "  \"font.family\": \"TimeNewroman\",\n",
    "  \"font.size\": 12,\n",
    "})\n",
    "#from mpl_toolkits.mplot3d import Axes3D\n",
    "dir=\"F:\\\\dataofion1\\\\\"\n",
    "print(dir)\n",
    "plt.rcParams['figure.figsize'] = (8,6)\n",
    "plt.rcParams['xtick.direction'] = 'in'\n",
    "plt.rcParams['ytick.direction'] = 'in'\n",
    "f=open(dir+\"alog.dat\",encoding=\"utf-8\")\n",
    "print(f.read())\n",
    "import os\n",
    "os.startfile(dir)\n",
    "levels=50\n",
    "figureDPI=1200\n",
    "figureType=\"jpeg\"\n"
   ]
  },
  {
   "cell_type": "markdown",
   "metadata": {},
   "source": [
    "Get the time points from the data"
   ]
  },
  {
   "cell_type": "code",
   "execution_count": null,
   "metadata": {},
   "outputs": [],
   "source": [
    "TimeBegin =int(min(np.loadtxt(dir+'Laser.dat')[:,0]))\n",
    "TimeEnd   =int(max(np.loadtxt(dir+'Laser.dat')[:,0]))\n",
    "TimeTurn  =int(min(np.loadtxt(dir+'ori_ali_1.dat')[:,0]))\n",
    "dt=np.loadtxt(dir+'Laser.dat')[1,0]-np.loadtxt(dir+'Laser.dat')[0,0]\n",
    "print(dt)\n",
    "turnPoint =int((TimeTurn-TimeBegin)/dt)\n",
    "print(turnPoint)\n",
    "print(' Begin time:',TimeBegin,'fs \\n End time:',TimeEnd, 'fs \\n Turn time:',TimeTurn,'fs')"
   ]
  },
  {
   "cell_type": "markdown",
   "metadata": {},
   "source": [
    "Plot absorption of the dimsension of the internuclear distance"
   ]
  },
  {
   "cell_type": "code",
   "execution_count": null,
   "metadata": {},
   "outputs": [],
   "source": [
    "data=np.loadtxt(dir+'Absb.dat') #get data form dir+'absb.dat'\n",
    "\n",
    "x=data[:,0]\n",
    "y1=data[:,1]\n",
    "plt.xlabel(\"$\\t{R}$ (a.u.) \")\n",
    "plt.ylabel(\"Absorptivity\")\n",
    "#x=x\n",
    "#y=y1\n",
    "#plt.text(min(x)+(max(x)-min(x))*0.95,min(y)+(max(y)-min(y))*0.95,\"(a)\")\n",
    "plt.plot(x,y1,'k-')\n",
    "#plt.savefig(dir+\"Absorption.\"+figureType,bbox_inches=\"tight\",transparent=True,dpi=figureDPI)\n",
    "plt.show()"
   ]
  },
  {
   "cell_type": "markdown",
   "metadata": {},
   "source": [
    "Plot potential energy of electric states"
   ]
  },
  {
   "cell_type": "code",
   "execution_count": null,
   "metadata": {},
   "outputs": [],
   "source": [
    "\n",
    "data=np.loadtxt(dir+\"Pott.dat\")\n",
    "x=data[:,0]\n",
    "y1=data[:,1]\n",
    "y2=data[:,2]\n",
    "y3=data[:,3]\n",
    "plt.xlabel(\"$\\t{R}$ (a.u.) \")\n",
    "plt.ylabel(\"Energy (a.u.)\")\n",
    "plt.plot(x,y1,'k-',x,y2,'r-.',x,y3,'b--')\n",
    "plt.legend(['$X^1\\Sigma^+$','$A^1 \\Sigma ^+$','$X^2 \\Sigma ^+$'],loc=(0.8,0.75))\n",
    "#plt.savefig(dir+\"pott.\"+figureType,bbox_inches=\"tight\",transparent=True,dpi=figureDPI)"
   ]
  },
  {
   "cell_type": "markdown",
   "metadata": {},
   "source": [
    "Plot Initial wave function "
   ]
  },
  {
   "cell_type": "code",
   "execution_count": null,
   "metadata": {},
   "outputs": [],
   "source": [
    "import scipy.ndimage\n",
    "plt.figure(figsize=(8,6))\n",
    "DataAng =np.loadtxt(dir+\"wave2d.dat\")\n",
    "#DataAng=scipy.ndimage.zoom(DataAng,1)\n",
    "#plt.style.use('_mpl-gallery-nogrid')\n",
    "x=DataAng[:,0]\n",
    "y=DataAng[:,1]\n",
    "z=DataAng[:,2]\n",
    "plt.xlim(-5, 5)\n",
    "plt.ylim(-5, 5)\n",
    "ax=plt.tricontourf(x,y,z,levels,cmap='jet')\n",
    "\n",
    "#interpolation='spline16'\n",
    "plt.colorbar()\n",
    "plt.xlabel(\"$\\tR$ (a.u.)\")\n",
    "plt.ylabel(\"$\\tR$ (a.u.)\")\n",
    "#plt.savefig(dir+\"InitialWavePacket.\"+figureType,bbox_inches = 'tight',transparent=True,dpi=figureDPI)\n",
    "plt.show()"
   ]
  },
  {
   "cell_type": "markdown",
   "metadata": {},
   "source": [
    "Plot the electronic field of the lasers"
   ]
  },
  {
   "cell_type": "code",
   "execution_count": null,
   "metadata": {},
   "outputs": [],
   "source": [
    "data=np.loadtxt(dir+\"Laser.dat\")\n",
    "x =data[:,0]\n",
    "y1=data[:,1]\n",
    "x2=data[turnPoint:,0]\n",
    "y2=data[turnPoint:,2]\n",
    "y3=data[turnPoint:,3]\n",
    "import matplotlib.gridspec as gridspec\n",
    "fig = plt.figure(tight_layout=True)\n",
    "gs = gridspec.GridSpec(2, 2)\n",
    "ax = fig.add_subplot(gs[0,:])\n",
    "ax.plot(x,y1,'k-')\n",
    "x=x\n",
    "y=y1\n",
    "plt.text(min(x)+(max(x)-min(x))*0.95,min(y)+(max(y)-min(y))*0.95,\"(a)\")\n",
    "ax.set_ylabel('Intensity (a.u.)')\n",
    "ax.set_xlabel('Time (fs)')\n",
    "for i in range(2):\n",
    "    ax = fig.add_subplot(gs[1, i])\n",
    "    if i==0:\n",
    "        ax.plot(x2,y2,'r-')\n",
    "        x=x\n",
    "        y=y2\n",
    "        plt.text(min(x2)+(max(x2)-min(x2))*0.95,min(y2)+(max(y2)-min(y2))*0.95,\"(b)\")\n",
    "    if i==1:\n",
    "        ax.plot(x2,y3,'b-')\n",
    "        x=x\n",
    "        y=y3\n",
    "        plt.text(min(x2)+(max(x2)-min(x2))*0.95,min(y3)+(min(y2)-min(y2))*0.95,\"(c)\")\n",
    "    ax.set_ylabel('Intensity (a.u.)')\n",
    "    ax.set_xlabel('Time (fs)')\n",
    "    if i == 0:\n",
    "        for tick in ax.get_xticklabels():\n",
    "            tick.set_rotation(55)\n",
    "fig.align_labels()  # same as fig.align_xlabels(); fig.align_ylabels()\n",
    "plt.show()"
   ]
  },
  {
   "cell_type": "code",
   "execution_count": null,
   "metadata": {},
   "outputs": [],
   "source": [
    "data=np.loadtxt(dir+\"Laser.dat\")\n",
    "x=data[:,0]\n",
    "y1=data[:,1]\n",
    "y2=data[:,2]\n",
    "y3=data[:,3]\n",
    "\n",
    "plt.subplot(3,1,1)\n",
    "#plt.grid(False)\n",
    "x=x\n",
    "y=y1\n",
    "plt.text(min(x)+(max(x)-min(x))*0.95,min(y)+(max(y)-min(y))*0.9,\"(a)\")\n",
    "plt.xlabel('Time (fs)')\n",
    "plt.ylabel(\"Intensity (a.u.)\")\n",
    "plt.xlim(TimeBegin,TimeEnd)\n",
    "plt.plot(x,y1,'k-')\n",
    "\n",
    "plt.subplot(3,1,2)\n",
    "#plt.grid(False)\n",
    "#plt.title(\"(b)\",loc=\"left\")\n",
    "plt.xlabel('Time (fs)')\n",
    "plt.ylabel(\"Intensity (a.u.)\")\n",
    "plt.xlim(TimeTurn,TimeEnd)\n",
    "plt.plot(x,y2,'k-')\n",
    "x=x\n",
    "y=y2\n",
    "plt.text(TimeTurn+(TimeEnd-TimeTurn)*0.95,min(y)+(max(y)-min(y))*0.9,\"(b)\")\n",
    "\n",
    "plt.subplot(3,1,3)\n",
    "#plt.grid(False)\n",
    "x=x\n",
    "y=y3\n",
    "plt.text(TimeTurn+(TimeEnd-TimeTurn)*0.95,min(y)+(max(y)-min(y))*0.9,\"(c)\")\n",
    "\n",
    "plt.xlabel('Time (fs)')\n",
    "plt.ylabel(\"Intensity (a.u.)\")\n",
    "plt.xlim(TimeTurn,TimeEnd)\n",
    "plt.plot(x,y3,'k-')"
   ]
  },
  {
   "cell_type": "markdown",
   "metadata": {},
   "source": [
    "Plot the Potential energy and dipole moment"
   ]
  },
  {
   "cell_type": "code",
   "execution_count": null,
   "metadata": {},
   "outputs": [],
   "source": [
    "plt.subplot(1,2,1)\n",
    "data=np.loadtxt(dir+\"Pott.dat\")\n",
    "x=data[:,0]\n",
    "y1=data[:,1]\n",
    "y2=data[:,2]\n",
    "y3=data[:,3]\n",
    "#plt.grid(False)\n",
    "x=x\n",
    "y=y3\n",
    "plt.text(min(x)+(max(x)-min(x))*0.95,min(y)+(max(y)-min(y))*0.95,\"(a)\")\n",
    "plt.xlabel('$\\\\textit{R}$ (a.u.)')\n",
    "plt.ylabel(\"Intensity (a.u.)\")\n",
    "plt.plot(x,y1,'k-',x,y2,'r-.',x,y3,'b--')\n",
    "plt.legend(['$X^1\\Sigma^+$','$A^1 \\Sigma ^+$','$X^2 \\Sigma ^+$'],loc=(0.6,0.75))\n",
    "plt.subplot(1,2,2)\n",
    "data2=np.loadtxt(dir+\"Dipole.dat\")\n",
    "x=data2[:,0]\n",
    "y=data2[:,2]\n",
    "plt.text(min(x)+(max(x)-min(x))*0.95,min(y)+(max(y)-min(y))*0.9,\"(b)\")\n",
    "plt.xlabel(\"$\\\\textit{R}$  (a.u.)\")\n",
    "plt.ylabel(\"Intensity (a.u.)\")\n",
    "plt.plot(data2[:,0],data2[:,1],'k-',data2[:,0],data2[:,2],'r-.',data2[:,0],data2[:,3],'b--')\n",
    "plt.legend([\"$\\mu_{X^1\\Sigma^+ - X^1\\Sigma^+} $\",\"$\\mu_{A^1\\Sigma^+ - A^1\\Sigma^+} $\",\"$\\mu_{A^1\\Sigma^+ - X^2\\Sigma^+} $\"],loc=(0.5,0.08))\n",
    "plt.tight_layout()\n",
    "#plt.savefig(dir+\"PotentialEnergyAndDipoleMent.\"+figureType,bbox_inches = 'tight',dpi=figureDPI)\n",
    "plt.show()\n"
   ]
  },
  {
   "cell_type": "markdown",
   "metadata": {},
   "source": [
    "Plot orientation and alignment of the groud state"
   ]
  },
  {
   "cell_type": "code",
   "execution_count": null,
   "metadata": {},
   "outputs": [],
   "source": [
    "data=np.loadtxt(dir+\"cos1.dat\")\n",
    "x=data[:,0]\n",
    "y1=data[:,1]\n",
    "y2=data[:,2]\n",
    "fig, ax1 = plt.subplots()\n",
    "color = 'tab:red'\n",
    "ax1.set_xlabel('Time (fs)')\n",
    "ax1.set_ylabel('$\\\\langle{\\\\rm  cos} \\\\theta \\\\rangle$', color=color)\n",
    "ax1.plot(x, y1, color=color)\n",
    "ax1.tick_params(axis='y', labelcolor=color)\n",
    "\n",
    "ax2 = ax1.twinx()  # instantiate a second axes that shares the same x-axis\n",
    "\n",
    "color = 'tab:blue'\n",
    "ax2.set_ylabel('$\\\\langle{\\\\rm cos^2} \\\\theta \\\\rangle$', color=color)  # we already handled the x-label with ax1\n",
    "ax2.plot(x, y2,'--', color=color)\n",
    "ax2.tick_params(axis='y', labelcolor=color)\n",
    "\n",
    "fig.tight_layout()  # otherwise the right y-label is slightly clipped\n",
    "plt.savefig(dir+\"OrientationAndAlignment.\"+figureType,bbox_inches = 'tight',dpi=figureDPI)\n",
    "plt.show()"
   ]
  },
  {
   "cell_type": "markdown",
   "metadata": {},
   "source": [
    "Plot evolution of angle-resolved wave packets"
   ]
  },
  {
   "cell_type": "code",
   "execution_count": null,
   "metadata": {},
   "outputs": [],
   "source": [
    "plt.figure(figsize=(12,9))\n",
    "plt.subplot(2,2,1)\n",
    "DataAng =np.loadtxt(dir+\"vgr_ang.dat\")\n",
    "#plt.style.use('_mpl-gallery-nogrid')\n",
    "x=DataAng[:,0]\n",
    "y=DataAng[:,1]\n",
    "z=DataAng[:,2]\n",
    "plt.title(\"(a)\",loc='left')\n",
    "plt.xlim(TimeBegin, TimeEnd )\n",
    "plt.tricontourf(x,y,z,levels,cmap='jet')\n",
    "plt.colorbar()\n",
    "plt.xlabel(\"Time (fs)\")\n",
    "plt.ylabel(\"Angle (Degrees)\")\n",
    "plt.subplot(2,2,2)\n",
    "DataAng =np.loadtxt(dir+\"Exc_ang.dat\")\n",
    "#plt.style.use('_mpl-gallery-nogrid')\n",
    "x=DataAng[:,0]\n",
    "y=DataAng[:,1]\n",
    "z=DataAng[:,2]\n",
    "plt.title(\"(b)\",loc='left')\n",
    "plt.xlim(TimeTurn,TimeEnd)\n",
    "plt.tricontourf(x,y,z,levels,cmap='jet')\n",
    "plt.colorbar()\n",
    "plt.xlabel(\"Time (fs)\")\n",
    "plt.ylabel(\"Angle (Degrees)\")\n",
    "plt.subplot(2,2,3)\n",
    "DataAng =np.loadtxt(dir+\"Ion_ang.dat\")\n",
    "#plt.style.use('_mpl-gallery-nogrid')\n",
    "x=DataAng[:,0]\n",
    "y=DataAng[:,1]\n",
    "z=DataAng[:,2]\n",
    "plt.xlim(TimeTurn,TimeEnd)\n",
    "plt.title(\"(c)\",loc='left')\n",
    "plt.tricontourf(x,y,z,levels,cmap='jet')\n",
    "plt.colorbar()\n",
    "plt.xlabel(\"Time (fs)\")\n",
    "plt.ylabel(\"Angle (Degrees)\")\n",
    "plt.subplot(2,2,4)\n",
    "DataAng =np.loadtxt(dir+\"TotalAngDis.dat\")\n",
    "#plt.style.use('_mpl-gallery-nogrid')\n",
    "x=DataAng[:,0]\n",
    "y=DataAng[:,1]\n",
    "z=DataAng[:,2]\n",
    "plt.title(\"(d)\",loc='left')\n",
    "plt.tricontourf(x,y,z,levels,cmap='jet')\n",
    "plt.colorbar()\n",
    "plt.xlabel(\"Time (fs)\")\n",
    "plt.ylabel(\"Angle (Degrees)\")\n",
    "plt.savefig(dir+\"WaveAngDis.\"+figureType,bbox_inches = 'tight',dpi=figureDPI)\n",
    "plt.show()\n"
   ]
  },
  {
   "cell_type": "markdown",
   "metadata": {},
   "source": [
    "Plot evolution of internuclear distance-resolved wave packages"
   ]
  },
  {
   "cell_type": "code",
   "execution_count": null,
   "metadata": {},
   "outputs": [],
   "source": [
    "plt.figure(figsize=(12,9))\n",
    "plt.subplot(2,2,1)\n",
    "DataAng =np.loadtxt(dir+\"vgr_rad.dat\")\n",
    "#plt.style.use('_mpl-gallery-nogrid')\n",
    "x=DataAng[:,0]\n",
    "y=DataAng[:,1]\n",
    "z=DataAng[:,2]\n",
    "plt.title(\"(a)\",loc='left')\n",
    "plt.xlim(TimeTurn, TimeEnd )\n",
    "plt.ylim(1.75,10.0)\n",
    "plt.tricontourf(x,y,z,levels,cmap='jet')\n",
    "plt.colorbar()\n",
    "plt.xlabel(\"Time (fs)\")\n",
    "plt.ylabel(\"$R$ (Degrees)\")\n",
    "plt.subplot(2,2,2)\n",
    "DataAng =np.loadtxt(dir+\"Exc_rad.dat\")\n",
    "#plt.style.use('_mpl-gallery-nogrid')\n",
    "x=DataAng[:,0]\n",
    "y=DataAng[:,1]\n",
    "z=DataAng[:,2]\n",
    "plt.title(\"(b)\",loc='left')\n",
    "plt.xlim(TimeTurn,TimeEnd)\n",
    "plt.ylim(1.75,10.0)\n",
    "plt.tricontourf(x,y,z,levels,cmap='jet')\n",
    "plt.colorbar()\n",
    "plt.xlabel(\"Time (fs)\")\n",
    "plt.ylabel(\"$R$ (Degrees)\")\n",
    "plt.subplot(2,2,3)\n",
    "DataAng =np.loadtxt(dir+\"Ion_rad.dat\")\n",
    "#plt.style.use('_mpl-gallery-nogrid')\n",
    "x=DataAng[:,0]\n",
    "y=DataAng[:,1]\n",
    "z=DataAng[:,2]\n",
    "plt.xlim(TimeTurn,TimeEnd)\n",
    "plt.ylim(1.75,10.0)\n",
    "plt.title(\"(c)\",loc='left')\n",
    "plt.tricontourf(x,y,z,levels,cmap='jet')\n",
    "plt.colorbar()\n",
    "plt.xlabel(\"Time (fs)\")\n",
    "plt.ylabel(\"$R$ (Degrees)\")\n",
    "plt.subplot(2,2,4)\n",
    "DataAng =np.loadtxt(dir+\"TotalRadDis.dat\")\n",
    "#plt.style.use('_mpl-gallery-nogrid')\n",
    "x=DataAng[:,0]\n",
    "y=DataAng[:,1]\n",
    "z=DataAng[:,2]\n",
    "plt.xlim(TimeTurn,TimeEnd)\n",
    "plt.ylim(1.75,10.0)\n",
    "plt.title(\"(d)\",loc='left')\n",
    "plt.tricontourf(x,y,z,levels,cmap='jet')\n",
    "plt.colorbar()\n",
    "plt.xlabel(\"Time (fs)\")\n",
    "plt.ylabel(\"$R$ (Degrees)\")\n",
    "plt.savefig(dir+\"WaveAngDis.\"+figureType,bbox_inches = 'tight',dpi=figureDPI)\n",
    "plt.show()\n"
   ]
  },
  {
   "cell_type": "markdown",
   "metadata": {},
   "source": [
    "Plot population of electronic states"
   ]
  },
  {
   "cell_type": "code",
   "execution_count": null,
   "metadata": {},
   "outputs": [],
   "source": [
    "os.startfile(dir+\"WaveAngDis.\"+figureType)"
   ]
  },
  {
   "cell_type": "code",
   "execution_count": null,
   "metadata": {},
   "outputs": [],
   "source": [
    "data=np.loadtxt(dir+\"Popu.dat\")\n",
    "plt.xlim(TimeTurn,TimeEnd)\n",
    "ax=plt.plot(data[:,0],data[:,1],'k-',data[:,0],data[:,2],'r-',data[:,0],1-data[:,1]-data[:,2],'b-')\n",
    "plt.legend([\"Gro\",\"Exc\",\"Ion\"],loc=(0.83,0.79))\n",
    "plt.xlabel(\"Time (fs)\")\n",
    "plt.ylabel(\"Population\")\n",
    "plt.savefig(dir+\"PopulationOfState.\"+figureType,dpi=figureDPI,bbox_inches=\"tight\")"
   ]
  },
  {
   "cell_type": "markdown",
   "metadata": {},
   "source": [
    "Plot population of vibrational states"
   ]
  },
  {
   "cell_type": "code",
   "execution_count": null,
   "metadata": {},
   "outputs": [],
   "source": [
    "plt.figure(figsize=(12,9))\n",
    "plt.subplot(2,1,1)\n",
    "DataPop =np.loadtxt(dir+\"p_vgr_v.dat\")\n",
    "#plt.style.use('_mpl-gallery-nogrid')\n",
    "x=DataPop[:,0]\n",
    "y=DataPop[:,1]\n",
    "z=DataPop[:,2]\n",
    "plt.xlim(TimeBegin,TimeEnd)\n",
    "plt.ylim(0,5)\n",
    "plt.title(\"(a)\",loc='left')\n",
    "plt.tripcolor(x,y,z,cmap='jet')\n",
    "plt.colorbar()\n",
    "plt.xlabel(\"Time (fs)\")\n",
    "plt.ylabel(\"Vibrational quantum number v\")\n",
    "\n",
    "plt.subplot(2,1,2)\n",
    "DataPop =np.loadtxt(dir+\"p_exc_v.dat\")\n",
    "#plt.style.use('_mpl-gallery-nogrid')\n",
    "x=DataPop[:,0]\n",
    "y=DataPop[:,1]\n",
    "z=DataPop[:,2]\n",
    "plt.xlim(TimeTurn,TimeEnd)\n",
    "plt.ylim(0,20)\n",
    "plt.title(\"(b)\",loc='left')\n",
    "plt.tripcolor(x,y,z)\n",
    "plt.colorbar()\n",
    "plt.xlabel(\"Time (fs)\")\n",
    "plt.ylabel(\"Vibrational quantum number v\")\n",
    "plt.savefig(dir+\"P_v.\"+figureType,bbox_inches = 'tight',dpi=figureDPI)\n",
    "plt.show()"
   ]
  },
  {
   "cell_type": "markdown",
   "metadata": {},
   "source": [
    "Plot orientation and alignment of the electronic states"
   ]
  },
  {
   "cell_type": "code",
   "execution_count": null,
   "metadata": {},
   "outputs": [],
   "source": [
    "data=np.loadtxt(dir+\"ori_ali_1.dat\")\n",
    "x=data[:,0]\n",
    "y1=data[:,1]\n",
    "y2=data[:,2]\n",
    "\n",
    "fig, ax1 = plt.subplots()\n",
    "\n",
    "color = 'tab:red'\n",
    "ax1.set_xlabel('Time (fs)')\n",
    "ax1.set_ylabel('$\\\\langle{\\\\rm cos} \\\\theta \\\\rangle$', color=color)\n",
    "ax1.plot(x, y1, color=color)\n",
    "ax1.tick_params(axis='y', labelcolor=color)\n",
    "\n",
    "ax2 = ax1.twinx()  # instantiate a second axes that shares the same x-axis\n",
    "\n",
    "color = 'tab:blue'\n",
    "ax2.set_ylabel('$\\\\langle {\\\\rm cos^2} \\\\theta \\\\rangle$', color=color)  # we already handled the x-label with ax1\n",
    "ax2.plot(x, y2,'--', color=color)\n",
    "ax2.tick_params(axis='y', labelcolor=color)\n",
    "\n",
    "fig.tight_layout()  # otherwise the right y-label is slightly clipped\n",
    "plt.savefig(dir+\"GroundAlignmentAndOrientation.\"+figureType,bbox_inches = 'tight',dpi=figureDPI)\n",
    "plt.show()"
   ]
  },
  {
   "cell_type": "code",
   "execution_count": null,
   "metadata": {},
   "outputs": [],
   "source": [
    "data=np.loadtxt(dir+\"ori_ali_2.dat\")\n",
    "x=data[:,0]\n",
    "y1=data[:,1]\n",
    "y2=data[:,2]\n",
    "\n",
    "fig, ax1 = plt.subplots()\n",
    "\n",
    "color = 'tab:red'\n",
    "ax1.set_xlabel('Time (fs)')\n",
    "ax1.set_ylabel('$\\\\langle{\\\\rm cos} \\\\theta \\\\rangle$', color=color)\n",
    "ax1.plot(x, y1, color=color)\n",
    "ax1.tick_params(axis='y', labelcolor=color)\n",
    "\n",
    "ax2 = ax1.twinx()  # instantiate a second axes that shares the same x-axis\n",
    "\n",
    "color = 'tab:blue'\n",
    "ax2.set_ylabel('$\\\\langle {\\\\rm cos^2} \\\\theta \\\\rangle$', color=color)  # we already handled the x-label with ax1\n",
    "ax2.plot(x, y2,'--', color=color)\n",
    "ax2.tick_params(axis='y', labelcolor=color)\n",
    "\n",
    "fig.tight_layout()  # otherwise the right y-label is slightly clipped\n",
    "plt.savefig(dir+\"ExcitedAlignmentAndOrientation.\"+figureType,bbox_inches = 'tight',dpi=figureDPI)\n",
    "plt.show()"
   ]
  },
  {
   "cell_type": "code",
   "execution_count": null,
   "metadata": {},
   "outputs": [],
   "source": [
    "r = np.arange(0, 2, 0.01)\n",
    "theta = 2 * np.pi * r\n",
    "\n",
    "fig, ax = plt.subplots(subplot_kw={'projection': 'polar'})\n",
    "ax.plot(theta, r)\n",
    "ax.set_rmax(2)\n",
    "ax.set_rticks([0.5, 1, 1.5, 2])  # Less radial ticks\n",
    "ax.set_rlabel_position(-22.5)  # Move radial labels away from plotted line\n",
    "ax.grid(False)\n",
    "\n",
    "ax.set_title(\"A line plot on a polar axis\", va='bottom')\n",
    "plt.show()"
   ]
  },
  {
   "cell_type": "code",
   "execution_count": null,
   "metadata": {},
   "outputs": [],
   "source": []
  }
 ],
 "metadata": {
  "kernelspec": {
   "display_name": "Python 3.10.5 64-bit (windows store)",
   "language": "python",
   "name": "python3"
  },
  "language_info": {
   "codemirror_mode": {
    "name": "ipython",
    "version": 3
   },
   "file_extension": ".py",
   "mimetype": "text/x-python",
   "name": "python",
   "nbconvert_exporter": "python",
   "pygments_lexer": "ipython3",
   "version": "3.9.0"
  },
  "orig_nbformat": 4,
  "vscode": {
   "interpreter": {
    "hash": "5addf786bcd861d1ce5006f23111f8cbb206731e5b61b0a5632ba9e0252558a8"
   }
  }
 },
 "nbformat": 4,
 "nbformat_minor": 2
}
