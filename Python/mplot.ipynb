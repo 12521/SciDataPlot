{
 "cells": [
  {
   "cell_type": "code",
   "execution_count": 1,
   "metadata": {},
   "outputs": [],
   "source": [
    "import numpy as np\n",
    "import matplotlib.pyplot as plt\n",
    "import matplotlib as mpl\n",
    "from matplotlib.ticker import MultipleLocator\n",
    "import os\n",
    "from matplotlib import ticker\n",
    "plt.rcParams['ytick.right']  =plt.rcParams['xtick.top'] =True\n",
    "xminorLocator=MultipleLocator(2)\n",
    "\n",
    "def cm2inch(value):\n",
    "    return value/2.54\n",
    "plt.rcParams['figure.figsize'] = (cm2inch(8), cm2inch(6.5))\n",
    "plt.rcParams['lines.linewidth'] = 1\n",
    "plt.rcParams['xtick.direction'] = 'in'\n",
    "plt.rcParams['ytick.direction'] = 'in'\n",
    "plt.rcParams['xtick.labelsize'] = 6\n",
    "plt.rcParams['ytick.labelsize'] = 6\n",
    "plt.rcParams['legend.fontsize'] =6\n",
    "\n",
    "from matplotlib import rcParams\n",
    "config = {\n",
    "    \"text.usetex\": False,\n",
    "    \"font.family\":'serif',\n",
    "    # \"font.family\":'stix',\n",
    "    \"font.size\": 8,\n",
    "    \"mathtext.fontset\":'stix',\n",
    "    # \"font.serif\": ['SimSun'],\n",
    "}\n",
    "rcParams.update(config)\n",
    "\n",
    "from mpl_toolkits.mplot3d import Axes3D\n",
    "import numpy \n",
    "def setlabel(ax, label, loc=2, borderpad=0.6, **kwargs):\n",
    "    legend = ax.get_legend()\n",
    "    if legend:\n",
    "        ax.add_artist(legend)\n",
    "    line, = ax.plot(numpy.NaN,numpy.NaN,color='none',label=label,fillstyle='full')\n",
    "    # legend_font = {\n",
    "    # 'family': 'Times New Roman',\n",
    "    # 'style':'normal',\n",
    "    # 'size':10,\n",
    "    # 'weight': \"bold\",\n",
    "    # }\n",
    "    label_legend = ax.legend(handles=[line],\n",
    "                             loc=[-0.2,1.0005],\n",
    "                             handlelength=0.0,\n",
    "                             handleheight=0.0,\n",
    "                             handletextpad=0.0,\n",
    "                             borderaxespad=0.0,\n",
    "                             borderpad=borderpad,\n",
    "                             frameon=False,\n",
    "                             shadow=True,\n",
    "                             facecolor='gray',\n",
    "                             prop={'weight':'bold','size':8},\n",
    "                             **kwargs)\n",
    "    label_legend.remove()\n",
    "    ax.add_artist(label_legend)\n",
    "    line.remove()\n",
    "def setlabelm(ax, label, loc, borderpad=0.6, **kwargs):\n",
    "    legend = ax.get_legend()\n",
    "    if legend:\n",
    "        ax.add_artist(legend)\n",
    "    line, = ax.plot(numpy.NaN,numpy.NaN,color='none',label=label)\n",
    "    label_legend = ax.legend(handles=[line],\n",
    "                             loc=loc,\n",
    "                             handlelength=0,\n",
    "                             handleheight=0,\n",
    "                             handletextpad=0,\n",
    "                             borderaxespad=0,\n",
    "                             borderpad=borderpad,\n",
    "                             frameon=False,\n",
    "                             shadow=True,\n",
    "                             facecolor='gray',\n",
    "                             prop={'weight':'bold','size':8},\n",
    "                             **kwargs)\n",
    "    label_legend.remove()\n",
    "    ax.add_artist(label_legend)\n",
    "    line.remove()\n",
    "def sciforyax(ax):\n",
    "    formatter=ticker.ScalarFormatter(useMathText=True)\n",
    "    formatter.set_scientific(True)\n",
    "    formatter.set_powerlimits((0,0))\n",
    "    ax.yaxis.set_major_formatter(formatter)\n",
    "def sciforxax(ax):\n",
    "    formatter=ticker.ScalarFormatter(useMathText=True)\n",
    "    formatter.set_scientific(True)\n",
    "    formatter.set_powerlimits((0,0))\n",
    "    ax.xaxis.set_major_formatter(formatter)\n",
    "cbformat=ticker.ScalarFormatter(useMathText=True,useOffset=True)\n",
    "cbformat.set_powerlimits((-1,1))\n",
    "\n",
    "import matplotlib.ticker\n",
    "class OOMFormatter(matplotlib.ticker.ScalarFormatter):\n",
    "    def __init__(self, order=0, fformat=\"%.3f\", offset=True, mathText=True):\n",
    "        self.oom = order\n",
    "        self.fformat = fformat \n",
    "        matplotlib.ticker.ScalarFormatter.__init__(self,useOffset=offset,useMathText=mathText)\n",
    "    def _set_order_of_magnitude(self):\n",
    "        self.orderOfMagnitude = self.oom\n",
    "    def _set_format(self, vmin=None, vmax=None):\n",
    "        self.format = self.fformat\n",
    "        if self._useMathText:\n",
    "             self.format = r'$\\mathdefault{%s}$' % self.format\n",
    "\n",
    "levels=100\n",
    "figureDPI=1200\n",
    "figureType=\"jpeg\"\n",
    "timeUnit=\"fs\""
   ]
  },
  {
   "cell_type": "code",
   "execution_count": 2,
   "metadata": {},
   "outputs": [
    {
     "name": "stdout",
     "output_type": "stream",
     "text": [
      "Working directory D:\\mplot\\\n",
      "\n",
      "\n"
     ]
    }
   ],
   "source": [
    "dir=\"D:\\\\mplot\\\\\"\n",
    "print('Working directory',dir)\n",
    "print(\"\\n\")\n",
    "import os\n",
    "os.startfile(dir)"
   ]
  },
  {
   "cell_type": "code",
   "execution_count": 3,
   "metadata": {},
   "outputs": [
    {
     "data": {
      "image/png": "[encoded data removed]",
      "text/plain": [
       "<Figure size 226.772x184.252 with 1 Axes>"
      ]
     },
     "metadata": {
      "needs_background": "light"
     },
     "output_type": "display_data"
    }
   ],
   "source": [
    "data=np.loadtxt(dir+\"pulse.dat\")\n",
    "x=data[:,0]\n",
    "y=data[:,1]\n",
    "plt.plot(x,y)\n",
    "plt.xlim(0,5)\n",
    "plt.xlabel(\"Time (ps)\")\n",
    "plt.ylabel(\"Instensity (V/m)\")\n",
    "plt.savefig(dir+\"pulse.\"+figureType,bbox_inches = 'tight',dpi=figureDPI)"
   ]
  },
  {
   "cell_type": "code",
   "execution_count": 4,
   "metadata": {},
   "outputs": [
    {
     "data": {
      "text/plain": [
       "<Figure size 576x432 with 0 Axes>"
      ]
     },
     "metadata": {},
     "output_type": "display_data"
    },
    {
     "data": {
      "image/png": "[encoded data removed]",
      "text/plain": [
       "<Figure size 226.772x184.252 with 2 Axes>"
      ]
     },
     "metadata": {
      "needs_background": "light"
     },
     "output_type": "display_data"
    }
   ],
   "source": [
    "# %%\n",
    "plt.figure(figsize=(8,6))\n",
    "data=np.loadtxt(dir+\"ori+ali.dat\")\n",
    "x=data[:,0]\n",
    "y1=data[:,1]\n",
    "y2=data[:,2]\n",
    "\n",
    "fig, ax1 = plt.subplots()\n",
    "\n",
    "color = 'tab:red'\n",
    "ax1.set_xlabel('Time (fs)')\n",
    "ax1.set_ylabel('$\\\\langle{\\\\rm  cos} \\\\theta \\\\rangle$', color=color)\n",
    "ax1.plot(x, y1, color=color)\n",
    "ax1.tick_params(axis='y', labelcolor=color)\n",
    "plt.xlim(0, 5)\n",
    "ax2 = ax1.twinx()  # instantiate a second axes that shares the same x-axis\n",
    "\n",
    "color = 'tab:blue'\n",
    "ax2.set_ylabel('$\\\\langle{\\\\rm cos^2} \\\\theta \\\\rangle$', color=color)  # we already handled the x-label with ax1\n",
    "ax2.plot(x, y2,'--', color=color)\n",
    "ax2.tick_params(axis='y', labelcolor=color)\n",
    "\n",
    "fig.tight_layout()  # otherwise the right y-label is slightly clipped\n",
    "plt.savefig(dir+\"AlignmentAndOrientation.jpeg\",bbox_inches = 'tight',dpi=600)\n",
    "plt.show()"
   ]
  },
  {
   "cell_type": "code",
   "execution_count": 5,
   "metadata": {},
   "outputs": [
    {
     "name": "stderr",
     "output_type": "stream",
     "text": [
      "C:\\Users\\ablis\\AppData\\Local\\Temp\\ipykernel_7156\\1853220900.py:1: UserWarning: loadtxt: Empty input file: \"D:\\mplot\\pop_j_t.dat\"\n",
      "  data =np.loadtxt(dir+\"pop_j_t.dat\")\n"
     ]
    },
    {
     "ename": "IndexError",
     "evalue": "too many indices for array: array is 1-dimensional, but 2 were indexed",
     "output_type": "error",
     "traceback": [
      "\u001b[1;31m---------------------------------------------------------------------------\u001b[0m",
      "\u001b[1;31mIndexError\u001b[0m                                Traceback (most recent call last)",
      "\u001b[1;32mc:\\Users\\ablis\\Documents\\GitHub\\SciDataPlot\\Python\\mplot.ipynb Cell 5\u001b[0m in \u001b[0;36m<cell line: 3>\u001b[1;34m()\u001b[0m\n\u001b[0;32m      <a href='vscode-notebook-cell:/c%3A/Users/ablis/Documents/GitHub/SciDataPlot/Python/mplot.ipynb#W5sZmlsZQ%3D%3D?line=0'>1</a>\u001b[0m data \u001b[39m=\u001b[39mnp\u001b[39m.\u001b[39mloadtxt(\u001b[39mdir\u001b[39m\u001b[39m+\u001b[39m\u001b[39m\"\u001b[39m\u001b[39mpop_j_t.dat\u001b[39m\u001b[39m\"\u001b[39m)\n\u001b[0;32m      <a href='vscode-notebook-cell:/c%3A/Users/ablis/Documents/GitHub/SciDataPlot/Python/mplot.ipynb#W5sZmlsZQ%3D%3D?line=1'>2</a>\u001b[0m \u001b[39m#plt.style.use('_mpl-gallery-nogrid')\u001b[39;00m\n\u001b[1;32m----> <a href='vscode-notebook-cell:/c%3A/Users/ablis/Documents/GitHub/SciDataPlot/Python/mplot.ipynb#W5sZmlsZQ%3D%3D?line=2'>3</a>\u001b[0m x\u001b[39m=\u001b[39mdata[:,\u001b[39m0\u001b[39;49m]\n\u001b[0;32m      <a href='vscode-notebook-cell:/c%3A/Users/ablis/Documents/GitHub/SciDataPlot/Python/mplot.ipynb#W5sZmlsZQ%3D%3D?line=3'>4</a>\u001b[0m y\u001b[39m=\u001b[39mdata[:,\u001b[39m1\u001b[39m]\n\u001b[0;32m      <a href='vscode-notebook-cell:/c%3A/Users/ablis/Documents/GitHub/SciDataPlot/Python/mplot.ipynb#W5sZmlsZQ%3D%3D?line=4'>5</a>\u001b[0m z\u001b[39m=\u001b[39mdata[:,\u001b[39m2\u001b[39m]\n",
      "\u001b[1;31mIndexError\u001b[0m: too many indices for array: array is 1-dimensional, but 2 were indexed"
     ]
    }
   ],
   "source": [
    "data =np.loadtxt(dir+\"pop_j_t.dat\")\n",
    "#plt.style.use('_mpl-gallery-nogrid')\n",
    "x=data[:,0]\n",
    "y=data[:,1]\n",
    "z=data[:,2]\n",
    "ny=int((max(y)-min(y))/(y[2]-y[1]))+1\n",
    "nx=int((max(x)-min(x))/(x[ny]-x[0]))+1+1\n",
    "zMesh=np.zeros((ny,nx))\n",
    "for i in range(1,nx):\n",
    "    for j in range(1,ny):\n",
    "        zMesh[j-1,i-1]=z[(i-1)*ny+j-1]\n",
    "# print('nx= ',nx,' ny= ',ny)\n",
    "# print('xMax= ',max(x),' xMin= ',min(x),' yMax= ',max(y),' yMin= ',min(y))\n",
    "# print('x[50]',x[50])\n",
    "# print(x[0])\n",
    "# print(zMesh)\n",
    "xMesh=np.linspace(min(x),max(x),nx)\n",
    "yMesh=np.linspace(min(y),max(y),ny)\n",
    "#xx,yy,zz=np.meshgrid(xMesh,yMesh,zMesh)\n",
    "plt.pcolormesh(xMesh,yMesh,zMesh,cmap='jet')\n",
    "ax1.yaxis.set_major_locator(MaxNLocator(integer=True))\n",
    "# setlabel(ax1,\"(a)\")\n",
    "plt.xlim(x[0]/2,max(x)-x[0])\n",
    "plt.ylim(-0.5,5.5)\n",
    "plt.xlabel('Time (ps)')\n",
    "plt.ylabel('$J$')\n",
    "plt.colorbar(format=cbformat)\n",
    "plt.savefig(dir+\"pop_j_.\"+figureType,bbox_inches = 'tight',dpi=figureDPI)"
   ]
  }
 ],
 "metadata": {
  "kernelspec": {
   "display_name": "Python 3.10.6 64-bit (microsoft store)",
   "language": "python",
   "name": "python3"
  },
  "language_info": {
   "codemirror_mode": {
    "name": "ipython",
    "version": 3
   },
   "file_extension": ".py",
   "mimetype": "text/x-python",
   "name": "python",
   "nbconvert_exporter": "python",
   "pygments_lexer": "ipython3",
   "version": "3.10.6"
  },
  "orig_nbformat": 4,
  "vscode": {
   "interpreter": {
    "hash": "8687b81b5d14307c58608bd19c9f92d9c321847991efa868faf2d3a3bcd23c46"
   }
  }
 },
 "nbformat": 4,
 "nbformat_minor": 2
}
