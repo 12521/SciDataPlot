{
 "cells": [
  {
   "cell_type": "code",
   "execution_count": null,
   "metadata": {},
   "outputs": [],
   "source": [
    "import numpy as np\n",
    "import matplotlib.pyplot as plt\n",
    "import matplotlib as mpl\n",
    "from matplotlib.ticker import MultipleLocator\n",
    "import os\n",
    "plt.rcParams['ytick.right']  =plt.rcParams['xtick.top'] =True\n",
    "xminorLocator=MultipleLocator(2)\n",
    "#plt.rcParams['set_minor_locator']=xminorLocator\n",
    "plt.rcParams.update({\n",
    "    \"text.usetex\": True,\n",
    "    \"font.family\": \"sans-serif\",\n",
    "    \"font.sans-serif\": [\"Time New Rroman\"]})\n",
    "# for Palatino and other serif fonts use:\n",
    "plt.rcParams.update({\n",
    "    \"text.usetex\": True,\n",
    "    \"font.family\": \"serif\",\n",
    "    #\"font.serif\": [\"Palatino\"],\n",
    "    \"font.serif\": [\"Time New Roman\"], \n",
    "})\n",
    "# It's also possible to use the reduced notation by directly setting font.family:\n",
    "plt.rcParams.update({\n",
    "  \"text.usetex\": True,\n",
    "  \"font.family\": \"Time New Roman\",\n",
    "  \"font.size\": 8,\n",
    "})\n",
    "\n",
    "def cm_to_inch(value):\n",
    "    return value/2.54\n",
    "\n",
    "plt.rcParams['figure.figsize'] = (cm_to_inch(8), cm_to_inch(6.5))\n",
    "#plt.rcParams['figure.figsize'] =(4,3)#(3.5,2.5)\n",
    "plt.rcParams['lines.linewidth'] = 1\n",
    "plt.rcParams['xtick.direction'] = 'in'\n",
    "plt.rcParams['ytick.direction'] = 'in'\n",
    "from mpl_toolkits.mplot3d import Axes3D\n",
    "import numpy \n",
    "def setlabel(ax, label, loc=2, borderpad=0.6, **kwargs):\n",
    "    legend = ax.get_legend()\n",
    "    if legend:\n",
    "        ax.add_artist(legend)\n",
    "    line, = ax.plot(numpy.NaN,numpy.NaN,color='none',label=label)\n",
    "    label_legend = ax.legend(handles=[line],\n",
    "                             loc=[-0.15,1.001],\n",
    "                             handlelength=0,\n",
    "                             handleheight=0,\n",
    "                             handletextpad=0,\n",
    "                             borderaxespad=0,\n",
    "                             borderpad=borderpad,\n",
    "                             frameon=False,\n",
    "                             **kwargs)\n",
    "    label_legend.remove()\n",
    "    ax.add_artist(label_legend)\n",
    "    line.remove()\n",
    "def setlabelm(ax, label, loc, borderpad=0.6, **kwargs):\n",
    "    legend = ax.get_legend()\n",
    "    if legend:\n",
    "        ax.add_artist(legend)\n",
    "    line, = ax.plot(numpy.NaN,numpy.NaN,color='none',label=label)\n",
    "    label_legend = ax.legend(handles=[line],\n",
    "                             loc=loc,\n",
    "                             handlelength=0,\n",
    "                             handleheight=0,\n",
    "                             handletextpad=0,\n",
    "                             borderaxespad=0,\n",
    "                             borderpad=borderpad,\n",
    "                             frameon=False,\n",
    "                             **kwargs)\n",
    "    label_legend.remove()\n",
    "    ax.add_artist(label_legend)\n",
    "    line.remove()\n",
    "levels=100\n",
    "figureDPI=1200\n",
    "figureType=\".jpeg\"\n",
    "timeUnit=\"ps\""
   ]
  },
  {
   "cell_type": "code",
   "execution_count": null,
   "metadata": {},
   "outputs": [],
   "source": [
    "dir='D:\\\\dataofpro\\\\frequency\\\\09150116\\\\'\n",
    "print('Working directory',dir)\n",
    "print(\"\\n\")\n",
    "f=open(dir+\"alog.txt\",encoding=\"utf-8\")\n",
    "print(f.read(1500))"
   ]
  },
  {
   "cell_type": "code",
   "execution_count": null,
   "metadata": {},
   "outputs": [],
   "source": [
    "data=np.loadtxt(dir+'pulse.dat')\n",
    "t=data[:,0]\n",
    "v=data[:,1]\n",
    "plt.plot(t,v,'k-')\n",
    "plt.xlabel('Time ('+timeUnit+')')\n",
    "plt.ylabel('$E(t)$ (a.u.)')\n",
    "plt.savefig(dir+'pluse'+figureType,bbox_inches='tight',dpi=figureDPI)\n",
    "plt.show()"
   ]
  },
  {
   "cell_type": "code",
   "execution_count": null,
   "metadata": {},
   "outputs": [],
   "source": [
    "data=np.loadtxt(dir+'J.dat')\n",
    "t=data[:,0]\n",
    "v=data[:,1]\n",
    "plt.plot(t,v,'k-')\n",
    "plt.xlabel('Time ('+timeUnit+')')\n",
    "plt.ylabel('$\\\\langle J\\\\rangle$')\n",
    "plt.savefig(dir+'J'+figureType,bbox_inches='tight',dpi=figureDPI)\n",
    "plt.show()"
   ]
  },
  {
   "cell_type": "code",
   "execution_count": null,
   "metadata": {},
   "outputs": [],
   "source": [
    "data=np.loadtxt(dir+'cos1Zz.dat')\n",
    "t=data[:,0]\n",
    "v=data[:,1]\n",
    "plt.plot(t,v,'k-')\n",
    "plt.xlabel('Time ('+timeUnit+')')\n",
    "plt.ylabel('$\\\\langle \\\\rm{cos} \\\\theta \\\\rangle _{Zz}$')\n",
    "plt.savefig(dir+'cos1Zz'+figureType,bbox_inches='tight',dpi=figureDPI)\n",
    "plt.show()"
   ]
  },
  {
   "cell_type": "code",
   "execution_count": null,
   "metadata": {},
   "outputs": [],
   "source": [
    "data=np.loadtxt(dir+'cos2Zz.dat')\n",
    "t=data[:,0]\n",
    "v=data[:,1]\n",
    "plt.plot(t,v,'k-')\n",
    "plt.xlabel('Time ('+timeUnit+')')\n",
    "plt.ylabel('$\\\\langle \\\\rm{cos} \\\\theta^2 \\\\rangle _{Zz}$')\n",
    "plt.savefig(dir+'cos2Zz'+figureType,bbox_inches='tight',dpi=figureDPI)\n",
    "plt.show()"
   ]
  },
  {
   "cell_type": "code",
   "execution_count": null,
   "metadata": {},
   "outputs": [],
   "source": [
    "os.startfile(dir)"
   ]
  },
  {
   "cell_type": "code",
   "execution_count": null,
   "metadata": {},
   "outputs": [],
   "source": [
    "data=np.loadtxt(dir+'cos2Yy.dat')\n",
    "t=data[:,0]\n",
    "v=data[:,1]\n",
    "plt.plot(t,v,'k-')\n",
    "plt.xlabel('Time ('+timeUnit+')')\n",
    "plt.ylabel('$\\\\langle \\\\rm{cos} \\\\theta ^2\\\\rangle _{Zz}$')\n",
    "plt.savefig(dir+'cos2Yy'+figureType,bbox_inches='tight',dpi=figureDPI)\n",
    "plt.show()"
   ]
  },
  {
   "cell_type": "code",
   "execution_count": null,
   "metadata": {},
   "outputs": [],
   "source": [
    "data=np.loadtxt(dir+'cos2Xx.dat')\n",
    "t=data[:,0]\n",
    "v=data[:,1]\n",
    "plt.plot(t,v,'k-')\n",
    "plt.xlabel('Time ('+timeUnit+')')\n",
    "plt.ylabel('$\\\\langle \\\\rm{cos} \\\\theta ^2\\\\rangle _{Zz}$')\n",
    "plt.savefig(dir+'cos2Xx'+figureType,bbox_inches='tight',dpi=figureDPI)\n",
    "plt.show()"
   ]
  },
  {
   "cell_type": "code",
   "execution_count": null,
   "metadata": {},
   "outputs": [],
   "source": [
    "# data=np.loadtxt(dir+'cos1Yy.dat')\n",
    "# t=data[:,0]\n",
    "# v=data[:,1]\n",
    "# plt.plot(t,v,'k-')\n",
    "# plt.xlabel('Time ('+timeUnit+')')\n",
    "# plt.ylabel('$\\\\langle \\\\rm{cos} \\\\theta \\\\rangle _{Zz}$')\n",
    "# plt.savefig(dir+'cos1Yy'+figureType,bbox_inches='tight',dpi=figureDPI)\n",
    "# plt.show()"
   ]
  },
  {
   "cell_type": "code",
   "execution_count": null,
   "metadata": {},
   "outputs": [],
   "source": [
    "# data=np.loadtxt(dir+'cos1Xx.dat')\n",
    "# t=data[:,0]\n",
    "# v=data[:,1]\n",
    "# plt.plot(t,v,'k-')\n",
    "# plt.xlabel('Time ('+timeUnit+')')\n",
    "# plt.ylabel('$\\\\langle \\\\rm{cos} \\\\theta \\\\rangle _{Zz}$')\n",
    "# plt.savefig(dir+'cos1Xx'+figureType,bbox_inches='tight',dpi=figureDPI)\n",
    "# plt.show()"
   ]
  }
 ],
 "metadata": {
  "kernelspec": {
   "display_name": "Python 3.10.6 64-bit (microsoft store)",
   "language": "python",
   "name": "python3"
  },
  "language_info": {
   "codemirror_mode": {
    "name": "ipython",
    "version": 3
   },
   "file_extension": ".py",
   "mimetype": "text/x-python",
   "name": "python",
   "nbconvert_exporter": "python",
   "pygments_lexer": "ipython3",
   "version": "3.10.6"
  },
  "orig_nbformat": 4,
  "vscode": {
   "interpreter": {
    "hash": "8687b81b5d14307c58608bd19c9f92d9c321847991efa868faf2d3a3bcd23c46"
   }
  }
 },
 "nbformat": 4,
 "nbformat_minor": 2
}
