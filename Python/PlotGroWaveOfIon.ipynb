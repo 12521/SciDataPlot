{
 "cells": [
  {
   "cell_type": "code",
   "execution_count": null,
   "metadata": {},
   "outputs": [],
   "source": [
    "import numpy as np\n",
    "import matplotlib.pyplot as plt\n",
    "import matplotlib as mpl\n",
    "from matplotlib.ticker import MultipleLocator\n",
    "import os\n",
    "plt.rcParams['ytick.right']  =plt.rcParams['xtick.top'] =True\n",
    "xminorLocator=MultipleLocator(2)\n",
    "#plt.rcParams['set_minor_locator']=xminorLocator\n",
    "plt.rcParams.update({\n",
    "    \"text.usetex\": True,\n",
    "    \"font.family\": \"sans-serif\",\n",
    "    \"font.sans-serif\": [\"TimeNewroman\"]})\n",
    "# for Palatino and other serif fonts use:\n",
    "plt.rcParams.update({\n",
    "    \"text.usetex\": True,\n",
    "    \"font.family\": \"serif\",\n",
    "    \"font.serif\": [\"Palatino\"],\n",
    "})\n",
    "# It's also possible to use the reduced notation by directly setting font.family:\n",
    "plt.rcParams.update({\n",
    "  \"text.usetex\": True,\n",
    "  \"font.family\": \"TimeNewroman\",\n",
    "  \"font.size\": 12,\n",
    "})\n",
    "plt.rcParams['figure.figsize'] = (8,6)\n",
    "plt.rcParams['xtick.direction'] = 'in'\n",
    "plt.rcParams['ytick.direction'] = 'in'\n",
    "#from mpl_toolkits.mplot3d import Axes3D\n",
    "#dir=\"D:\\\\doc\\\\data\\\\ion1testold\\\\DifferentDelatTimeOfPumpAndProbe\\\\dteq50fs\\\\\"\n",
    "#dir=\"D:\\\\doc\\\\data\\\\ion1testold\\\\t500t840\\\\44\\\\\"\n",
    "dir='F:\\\\doc\\\\ion360\\\\ok2\\\\'\n",
    "#dir='D:\\\\dataofpro\\\\'\n",
    "print('Working directory',dir)\n",
    "print(\"\\n\")\n",
    "f=open(dir+\"alog.dat\",encoding=\"utf-8\")\n",
    "print(f.read(1500))\n",
    "\n",
    "\n",
    "levels=100\n",
    "figureDPI=1200\n",
    "figureType=\"jpeg\"\n",
    "\n",
    "timeUnit=\"ps\""
   ]
  },
  {
   "cell_type": "code",
   "execution_count": null,
   "metadata": {},
   "outputs": [],
   "source": [
    "if os.path.exists(dir+'laser.dat'):\n",
    "    TimeBegin =(min(np.loadtxt(dir+'Laser.dat')[:,0]))\n",
    "    TimeEnd   =(max(np.loadtxt(dir+'Laser.dat')[:,0]))\n",
    "    dt=np.loadtxt(dir+'Laser.dat')[1,0]-np.loadtxt(dir+'Laser.dat')[0,0]\n",
    "elif os.path.exists(dir+'laserField.dat'):\n",
    "    TimeBegin =(min(np.loadtxt(dir+'Laserfield.dat')[:,0]))\n",
    "    TimeEnd   =(max(np.loadtxt(dir+'Laserfield.dat')[:,0]))\n",
    "    dt=np.loadtxt(dir+'LaserField.dat')[1,0]-np.loadtxt(dir+'LaserField.dat')[0,0]\n",
    "else:\n",
    "    print('Cant find the data file')\n",
    "#TimeTurn  =(min(np.loadtxt(dir+'ori_ali_1.dat')[:,0])) \n",
    "#if TimeEnd<5:\n",
    " #   print('The unit of time is ps!')\n",
    " #   timeUnit=\"ps\"\n",
    "#print('dt= ',dt)\n",
    "#turnPoint =int((TimeTurn-TimeBegin)/dt)\n",
    "##print('tunepoint=',turnPoint)\n",
    "#print(' Begin time:',TimeBegin,timeUnit+'\\n End time  :',TimeEnd,timeUnit+' \\n Turn time :',TimeTurn,timeUnit)"
   ]
  },
  {
   "cell_type": "code",
   "execution_count": null,
   "metadata": {},
   "outputs": [],
   "source": [
    "TimeTurn=1.78\n",
    "\n",
    "\n",
    "DataAng =np.loadtxt(dir+\"vgr_ang.dat\")\n",
    "#plt.style.use('_mpl-gallery-nogrid')\n",
    "x=DataAng[:,0]\n",
    "y=DataAng[:,1]\n",
    "z=DataAng[:,2]\n",
    "plt.title(\"(a)\",loc='left')\n",
    "plt.xlim(TimeBegin,TimeEnd)\n",
    "plt.tricontourf(x,y,z,levels,cmap='jet')\n",
    "plt.colorbar()\n",
    "plt.xlabel(\"Time (\"+timeUnit+\")\")\n",
    "plt.ylabel(\"$\\\\theta$ (degrees)\")\n",
    "plt.savefig(dir+\"vgr_ang.png\",dip=figureDPI)"
   ]
  },
  {
   "cell_type": "code",
   "execution_count": null,
   "metadata": {},
   "outputs": [],
   "source": [
    "\n",
    "DataAng =np.loadtxt(dir+\"Exc_ang.dat\")\n",
    "#plt.style.use('_mpl-gallery-nogrid')\n",
    "x=DataAng[:,0]\n",
    "y=DataAng[:,1]\n",
    "z=DataAng[:,2]\n",
    "plt.title(\"(b)\",loc='left')\n",
    "plt.xlim(TimeTurn,TimeEnd)\n",
    "plt.tricontourf(x,y,z,levels,cmap='jet')\n",
    "plt.colorbar()\n",
    "plt.xlabel(\"Time (\"+timeUnit+\")\")\n",
    "plt.ylabel(\"$\\\\theta$ (degrees)\")\n",
    "plt.savefig(dir+\"Exc_ang.png\",dpi=figureDPI)"
   ]
  },
  {
   "cell_type": "code",
   "execution_count": null,
   "metadata": {},
   "outputs": [],
   "source": [
    "\n",
    "DataAng =np.loadtxt(dir+\"Ion_ang.dat\")\n",
    "#plt.style.use('_mpl-gallery-nogrid')\n",
    "x=DataAng[:,0]\n",
    "y=DataAng[:,1]\n",
    "z=DataAng[:,2]\n",
    "plt.xlim(TimeTurn,TimeEnd)\n",
    "plt.title(\"(c)\",loc='left')\n",
    "plt.tricontourf(x,y,z,levels,cmap='jet')\n",
    "plt.colorbar()\n",
    "plt.xlabel(\"Time (\"+timeUnit+\")\")\n",
    "plt.ylabel(\"$\\\\theta$ (degrees)\")\n",
    "plt.savefig(dir+\"Ion_ang.png\",dpi=figureDPI)"
   ]
  },
  {
   "cell_type": "code",
   "execution_count": null,
   "metadata": {},
   "outputs": [],
   "source": [
    "\n",
    "DataAng =np.loadtxt(dir+\"TotalAngDis.dat\")\n",
    "#plt.style.use('_mpl-gallery-nogrid')\n",
    "x=DataAng[:,0]\n",
    "y=DataAng[:,1]\n",
    "z=DataAng[:,2]\n",
    "plt.title(\"(d)\",loc='left')\n",
    "plt.tricontourf(x,y,z,levels,cmap='jet')\n",
    "plt.colorbar()\n",
    "plt.xlabel(\"Time (\"+timeUnit+\")\")\n",
    "plt.ylabel(\"$\\\\theta$ (degrees)\")\n",
    "plt.savefig(dir+\"WaveAngDis.\"+figureType,bbox_inches = 'tight',dpi=figureDPI)\n",
    "plt.show()\n"
   ]
  },
  {
   "cell_type": "code",
   "execution_count": null,
   "metadata": {},
   "outputs": [],
   "source": []
  }
 ],
 "metadata": {
  "kernelspec": {
   "display_name": "Python 3.9.0 64-bit",
   "language": "python",
   "name": "python3"
  },
  "language_info": {
   "codemirror_mode": {
    "name": "ipython",
    "version": 3
   },
   "file_extension": ".py",
   "mimetype": "text/x-python",
   "name": "python",
   "nbconvert_exporter": "python",
   "pygments_lexer": "ipython3",
   "version": "3.9.0"
  },
  "orig_nbformat": 4,
  "vscode": {
   "interpreter": {
    "hash": "5addf786bcd861d1ce5006f23111f8cbb206731e5b61b0a5632ba9e0252558a8"
   }
  }
 },
 "nbformat": 4,
 "nbformat_minor": 2
}
