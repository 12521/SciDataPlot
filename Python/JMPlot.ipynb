{
 "cells": [
  {
   "cell_type": "code",
   "execution_count": null,
   "metadata": {},
   "outputs": [],
   "source": [
    "dir='D:\\\\dataofpro\\\\Output\\\\'"
   ]
  },
  {
   "cell_type": "code",
   "execution_count": null,
   "metadata": {},
   "outputs": [],
   "source": [
    "print('Working directory',dir)\n",
    "import numpy as np\n",
    "import matplotlib.pyplot as plt\n",
    "import matplotlib as mpl\n",
    "from matplotlib.ticker import MultipleLocator\n",
    "import os\n",
    "from matplotlib import ticker\n",
    "plt.rcParams['ytick.right']  =plt.rcParams['xtick.top'] =True\n",
    "xminorLocator=MultipleLocator(2)\n",
    "def cm2inch(value):\n",
    "    return value/2.54\n",
    "plt.rcParams['figure.figsize'] = (cm2inch(8), cm2inch(6.5))\n",
    "#plt.rcParams['figure.figsize'] =(4,3)#(3.5,2.5)\n",
    "plt.rcParams['lines.linewidth'] = 1\n",
    "plt.rcParams['xtick.direction'] = 'in'\n",
    "plt.rcParams['ytick.direction'] = 'in'\n",
    "plt.rcParams['xtick.labelsize'] = 6\n",
    "plt.rcParams['ytick.labelsize'] = 6\n",
    "plt.rcParams['legend.fontsize'] =6\n",
    "from matplotlib import rcParams\n",
    "config = {\n",
    "    \"text.usetex\": False,\n",
    "    \"font.family\":'serif',\n",
    "    # \"font.family\":'stix',\n",
    "    \"font.size\": 8,\n",
    "    \"mathtext.fontset\":'stix',\n",
    "    # \"font.serif\": ['SimSun'],\n",
    "}\n",
    "rcParams.update(config)\n",
    "from mpl_toolkits.mplot3d import Axes3D\n",
    "import numpy \n",
    "def setlabel(ax, label, loc=2, borderpad=0.6, **kwargs):\n",
    "    legend = ax.get_legend()\n",
    "    if legend:\n",
    "        ax.add_artist(legend)\n",
    "    line, = ax.plot(numpy.NaN,numpy.NaN,color='none',label=label,fillstyle='full')\n",
    "    label_legend = ax.legend(handles=[line],\n",
    "                             loc=[-0.2,1.0005],\n",
    "                             handlelength=0.0,\n",
    "                             handleheight=0.0,\n",
    "                             handletextpad=0.0,\n",
    "                             borderaxespad=0.0,\n",
    "                             borderpad=borderpad,\n",
    "                             frameon=False,\n",
    "                             shadow=True,\n",
    "                             facecolor='gray',\n",
    "                             prop={'weight':'bold','size':8},\n",
    "                             **kwargs)\n",
    "    label_legend.remove()\n",
    "    ax.add_artist(label_legend)\n",
    "    line.remove()\n",
    "def setlabelm(ax, label, loc, borderpad=0.6, **kwargs):\n",
    "    legend = ax.get_legend()\n",
    "    if legend:\n",
    "        ax.add_artist(legend)\n",
    "    line, = ax.plot(numpy.NaN,numpy.NaN,color='none',label=label)\n",
    "    label_legend = ax.legend(handles=[line],\n",
    "                             loc=loc,\n",
    "                             handlelength=0,\n",
    "                             handleheight=0,\n",
    "                             handletextpad=0,\n",
    "                             borderaxespad=0,\n",
    "                             borderpad=borderpad,\n",
    "                             frameon=False,\n",
    "                             shadow=True,\n",
    "                             facecolor='gray',\n",
    "                             prop={'weight':'bold','size':8},\n",
    "                             **kwargs)\n",
    "    label_legend.remove()\n",
    "    ax.add_artist(label_legend)\n",
    "    line.remove()\n",
    "def sciforyax(ax):\n",
    "    formatter=ticker.ScalarFormatter(useMathText=True)\n",
    "    formatter.set_scientific(True)\n",
    "    formatter.set_powerlimits((0,0))\n",
    "    ax.yaxis.set_major_formatter(formatter)\n",
    "def sciforxax(ax):\n",
    "    formatter=ticker.ScalarFormatter(useMathText=True)\n",
    "    formatter.set_scientific(True)\n",
    "    formatter.set_powerlimits((0,0))\n",
    "    ax.xaxis.set_major_formatter(formatter)\n",
    "cbformat=ticker.ScalarFormatter(useMathText=True,useOffset=True)\n",
    "cbformat.set_powerlimits((-0,0))\n",
    "cbformat.format=\"%.2f\"\n",
    "import matplotlib.ticker\n",
    "class OOMFormatter(matplotlib.ticker.ScalarFormatter):\n",
    "    def __init__(self, order=0, fformat=\"%.3f\", offset=True, mathText=True):\n",
    "        self.oom = order\n",
    "        self.fformat = fformat\n",
    "        matplotlib.ticker.ScalarFormatter.__init__(self,useOffset=offset,useMathText=mathText)\n",
    "    def _set_order_of_magnitude(self):\n",
    "        self.orderOfMagnitude = self.oom\n",
    "    def _set_format(self, vmin=None, vmax=None):\n",
    "        self.format = self.fformat\n",
    "        if self._useMathText:\n",
    "             self.format = r'$\\mathdefault{%s}$' % self.format\n",
    "def fee(d):\n",
    "    import os\n",
    "    if (os.path.exists(d)):\n",
    "        # print(\"The file exists. \")\n",
    "        sz= os.path.getsize(d)\n",
    "        if not sz:\n",
    "            print(d,\" is empty!\")\n",
    "            return False\n",
    "        else: \n",
    "            print(\"Size of \",d,\" is \", sz/1024,'KB' )\n",
    "            return True\n",
    "    else:\n",
    "        print(d, \" is not exists! \")\n",
    "        return  False   \n",
    "import  imageio\n",
    "import os\n",
    "def compose_gif(image_list,gif_name,myduration):\n",
    "    frames=[]\n",
    "    for image_name in image_list:\n",
    "        frames.append(imageio.imread(image_name))\n",
    "    imageio.mimsave(gif_name,frames,'GIF',duration=myduration)\n",
    "    return\n",
    "levels=100\n",
    "figureDPI=1200\n",
    "figureType=\"jpeg\"\n",
    "timeUnit=\"fs\""
   ]
  },
  {
   "cell_type": "code",
   "execution_count": null,
   "metadata": {},
   "outputs": [],
   "source": [
    "dat=np.loadtxt(dir+'EField.dat')\n",
    "x=dat[:,0]\n",
    "y=dat[:,1]\n",
    "plt.plot(x,y)\n",
    "plt.xlim(-2,2)"
   ]
  },
  {
   "cell_type": "code",
   "execution_count": null,
   "metadata": {},
   "outputs": [],
   "source": [
    "dat=np.loadtxt(dir+'Alignment_total.dat')\n",
    "x=dat[:,0]\n",
    "y=dat[:,1]\n",
    "plt.plot(x,y)\n",
    "plt.xlim(-1,9)"
   ]
  },
  {
   "cell_type": "code",
   "execution_count": null,
   "metadata": {},
   "outputs": [],
   "source": [
    "dat=np.loadtxt(dir+'Orientation_MultiJ\\\\000COS.dat')\n",
    "x=dat[:,0]\n",
    "y=dat[:,1]\n",
    "plt.plot(x,y)"
   ]
  },
  {
   "cell_type": "code",
   "execution_count": null,
   "metadata": {},
   "outputs": [],
   "source": [
    "dat=np.loadtxt(dir+'TimWavPop.dat')\n",
    "# dat=np.clip(dat,-1,1)\n",
    "x=dat[:,0]\n",
    "y=dat[:,1]\n",
    "z=dat[:,2]\n",
    "plt.tricontourf(x,y,z,level=levels,cmap='jet')"
   ]
  },
  {
   "cell_type": "code",
   "execution_count": null,
   "metadata": {},
   "outputs": [],
   "source": [
    "dat=np.loadtxt(dir+'EField_RWA.dat')\n",
    "x=dat[:,0]\n",
    "y=dat[:,1]\n",
    "plt.plot(x,y)"
   ]
  },
  {
   "cell_type": "code",
   "execution_count": null,
   "metadata": {},
   "outputs": [],
   "source": [
    "dat=np.loadtxt(dir+'COS2_JM_JM.dat')\n",
    "x=dat[:,0]\n",
    "y=dat[:,1]\n",
    "plt.plot(x,y)"
   ]
  },
  {
   "cell_type": "code",
   "execution_count": null,
   "metadata": {},
   "outputs": [],
   "source": [
    "dat=np.loadtxt(dir+'COS_JM_JADDM.dat')\n",
    "x=dat[:,0]\n",
    "y=dat[:,1]\n",
    "plt.plot(x,y)"
   ]
  },
  {
   "cell_type": "code",
   "execution_count": null,
   "metadata": {},
   "outputs": [],
   "source": [
    "dat=np.loadtxt(dir+'Time_Wavepacket_Distribution\\\\J000_PM000_WAVEPACKET_POLAR_ROT_INITIAL.dat')\n",
    "fig, ax = plt.subplots(subplot_kw={'projection': 'polar'})\n",
    "x=dat[:,0]/180*np.pi\n",
    "y=dat[:,1]\n",
    "plt.plot(x,y)\n",
    "# plt.ylim(0,1)"
   ]
  },
  {
   "cell_type": "code",
   "execution_count": null,
   "metadata": {},
   "outputs": [],
   "source": [
    "leg=[]\n",
    "for i in range(0,16):\n",
    "    dat=np.loadtxt(dir+'Projection\\\\PRJ_STATE_J0'+str(i).zfill(2)+'_PM000.dat')\n",
    "    leg.append('$J=$'+str(i))\n",
    "    t=dat[:,0]\n",
    "    p=dat[:,1]\n",
    "    plt.plot(t,p)\n",
    "    plt.xlim(-1.,1.)\n",
    "plt.legend(leg,ncol=2)\n",
    "    "
   ]
  },
  {
   "cell_type": "code",
   "execution_count": null,
   "metadata": {},
   "outputs": [],
   "source": [
    "leg=[]\n",
    "for i in range(0,1):\n",
    "    dat=np.loadtxt(dir+'Orientation\\\\J0'+str(i).zfill(2)+'_PM000COS.dat')\n",
    "    leg.append('$J=$'+str(i))\n",
    "    t=dat[:,0]\n",
    "    p=dat[:,1]\n",
    "    plt.plot(t,p)\n",
    "plt.legend(leg,ncol=3)"
   ]
  },
  {
   "cell_type": "code",
   "execution_count": null,
   "metadata": {},
   "outputs": [],
   "source": [
    "leg=[]\n",
    "for i in range(0,1):\n",
    "    dat=np.loadtxt(dir+'Alignment\\\\J0'+str(i).zfill(2)+'_PM000COS2.dat')\n",
    "    leg.append('$J=$'+str(i))\n",
    "    t=dat[:,0]\n",
    "    p=dat[:,1]\n",
    "    plt.plot(t,p)\n",
    "plt.legend(leg,ncol=3)"
   ]
  },
  {
   "cell_type": "code",
   "execution_count": null,
   "metadata": {},
   "outputs": [],
   "source": []
  }
 ],
 "metadata": {
  "kernelspec": {
   "display_name": "Python 3",
   "language": "python",
   "name": "python3"
  },
  "language_info": {
   "codemirror_mode": {
    "name": "ipython",
    "version": 3
   },
   "file_extension": ".py",
   "mimetype": "text/x-python",
   "name": "python",
   "nbconvert_exporter": "python",
   "pygments_lexer": "ipython3",
   "version": "3.9.0"
  },
  "orig_nbformat": 4,
  "vscode": {
   "interpreter": {
    "hash": "5addf786bcd861d1ce5006f23111f8cbb206731e5b61b0a5632ba9e0252558a8"
   }
  }
 },
 "nbformat": 4,
 "nbformat_minor": 2
}
