{
 "cells": [
  {
   "cell_type": "code",
   "execution_count": null,
   "metadata": {},
   "outputs": [],
   "source": [
    "import numpy as np\n",
    "import matplotlib.pyplot as plt\n",
    "import matplotlib as mpl\n",
    "from matplotlib.ticker import MultipleLocator\n",
    "import os\n",
    "plt.rcParams['ytick.right']  =plt.rcParams['xtick.top'] =True\n",
    "xminorLocator=MultipleLocator(2)\n",
    "#plt.rcParams['set_minor_locator']=xminorLocator\n",
    "\n",
    "plt.rcParams['figure.figsize'] = (8,6)\n",
    "plt.rcParams['xtick.direction'] = 'in'\n",
    "plt.rcParams['ytick.direction'] = 'in'\n",
    "#from mpl_toolkits.mplot3d import Axes3D\n",
    "#dir=\"D:\\\\doc\\\\data\\\\ion1testold\\\\DifferentDelatTimeOfPumpAndProbe\\\\dteq50fs\\\\\"\n",
    "#dir=\"D:\\\\doc\\\\data\\\\ion1testold\\\\t500t840\\\\44\\\\\"\n",
    "#dir='D:\\\\doc\\\\data\\\\ion1testold\\\\NoAlignment\\\\41\\\\'\n",
    "dir='D:\\\\doc\\\\data\\\\TimeFrequencyDistribution\\\\tset1\\\\'\n",
    "print('Working directory',dir)\n",
    "print(\"\\n\")\n",
    "levels=100\n",
    "figureDPI=1200\n",
    "figureType=\"jpeg\"\n",
    "timeUnit=\"fs\"\n",
    "import os\n",
    "os.startfile(dir)"
   ]
  },
  {
   "cell_type": "code",
   "execution_count": null,
   "metadata": {},
   "outputs": [],
   "source": [
    "from mpl_toolkits.mplot3d import Axes3D\n",
    "fig=plt.figure()\n",
    "ax1=plt.axes(projection='3d')\n",
    "\n",
    "data=np.loadtxt(dir+\"Laser.dat\")\n",
    "x=data[:,0]\n",
    "y=data[:,1]\n",
    "z=data[:,2]\n",
    "# ax1.scatter3D(x,y,z,cmap=\"Blues\",s=0.2,)\n",
    "plt.tricontour(x,y,z,levels,cmap=\"jet\")\n",
    "# plt.plot3d(x,y,z)"
   ]
  },
  {
   "cell_type": "code",
   "execution_count": null,
   "metadata": {},
   "outputs": [],
   "source": [
    "import matplotlib.pyplot as plt\n",
    "from matplotlib import cm\n",
    "from matplotlib.ticker import LinearLocator\n",
    "import numpy as np\n",
    "\n",
    "fig, ax = plt.subplots(subplot_kw={\"projection\": \"3d\"})\n",
    "data=np.loadtxt(dir+\"Laser.dat\")\n",
    "x=data[:,0]\n",
    "y=data[:,1]\n",
    "z=data[:,2]\n",
    "# Make data.\n",
    "X = x\n",
    "Y = y\n",
    "X, Y = np.meshgrid(x, y)\n",
    "\n",
    "Z =z\n",
    "\n",
    "# Plot the surface.\n",
    "surf = ax.plot_surface(X, Y, Z, cmap=cm.coolwarm,\n",
    "                       linewidth=0, antialiased=False)\n",
    "\n",
    "# Customize the z axis.\n",
    "ax.set_zlim(-1.01, 1.01)\n",
    "ax.zaxis.set_major_locator(LinearLocator(10))\n",
    "# A StrMethodFormatter is used automatically\n",
    "ax.zaxis.set_major_formatter('{x:.02f}')\n",
    "\n",
    "# Add a color bar which maps values to colors.\n",
    "fig.colorbar(surf, shrink=0.5, aspect=5)\n",
    "\n",
    "plt.show()"
   ]
  },
  {
   "cell_type": "code",
   "execution_count": null,
   "metadata": {},
   "outputs": [],
   "source": [
    "data=np.loadtxt(dir+\"BoltzmanInit.dat\")\n",
    "x=data[:,0]\n",
    "y=data[:,1]\n",
    "z=data[:,2]\n",
    "plt.axes(projection='3d').scatter3D(x,y,z)"
   ]
  },
  {
   "cell_type": "code",
   "execution_count": null,
   "metadata": {},
   "outputs": [],
   "source": [
    "data=np.loadtxt(dir+\"orientation.dat\")\n",
    "x=data[:,0]\n",
    "y=data[:,1]\n",
    "plt.xlim(8,12)\n",
    "plt.plot(x,y)"
   ]
  },
  {
   "cell_type": "code",
   "execution_count": null,
   "metadata": {},
   "outputs": [],
   "source": [
    "from mpl_toolkits.mplot3d import Axes3D\n",
    "import matplotlib.pyplot as plt\n",
    "import numpy as np\n",
    "\n",
    "fig = plt.figure()\n",
    "ax = fig.add_subplot(111, projection='3d')\n",
    "\n",
    "# Make data\n",
    "data=np.loadtxt(dir+\"BoltzmanInit.dat\")\n",
    "x=data[:,0]\n",
    "y=data[:,1]\n",
    "z=data[:,2]\n",
    "# Plot the surface\n",
    "#ax.plot_surface(x, y, z, color='b')\n",
    "ax.plot_surface(x, y, z,cmap='jet')\n",
    "\n",
    "plt.show()"
   ]
  },
  {
   "cell_type": "code",
   "execution_count": null,
   "metadata": {},
   "outputs": [],
   "source": [
    "DataPop=np.loadtxt(dir+\"BoltzmanInit.dat\")\n",
    "x=DataPop[:,0]\n",
    "y=DataPop[:,1]\n",
    "z=DataPop[:,2]\n",
    "ny=int((max(y)-min(y))/(y[2]-y[1]))+1\n",
    "nx=int((max(x)-min(x))/(x[ny]-x[0]))+1\n",
    "zMesh=np.zeros((nx,ny))\n",
    "for i in range(1,nx):\n",
    "    for j in range(1,ny):\n",
    "        zMesh[i-1,j-1]=z[*ny+i-1]\n",
    "print('nx= ',nx,' ny= ',ny)\n",
    "print('xMax= ',max(x),' xMin= ',min(x),' yMax= ',max(y),' yMin= ',min(y))\n",
    "print('x[50]',x[50])\n",
    "print(x[0])\n",
    "print(zMesh)\n",
    "xMesh=np.linspace(min(x),max(x),nx)\n",
    "yMesh=np.linspace(min(y),max(y),ny)\n",
    "#xx,yy,zz=np.meshgrid(xMesh,yMesh,zMesh)\n",
    "plt.pcolormesh(xMesh,yMesh,zMesh,cmap='jet')\n",
    "#plt.ylim(-0.5,5.5)\n",
    "plt.xlabel('Time ('+timeUnit+')')\n",
    "plt.ylabel('Vibrational quantum state')\n",
    "plt.colorbar()"
   ]
  },
  {
   "cell_type": "code",
   "execution_count": null,
   "metadata": {},
   "outputs": [],
   "source": [
    "DataPop=np.loadtxt(dir+\"BoltzmanDist.dat\")\n",
    "x=DataPop[:,0]\n",
    "y=DataPop[:,1]\n",
    "z=DataPop[:,2]\n",
    "plt.tricontourf(x,y,z,cmap='jet')\n",
    "plt.xlim(-0.5,5.5)\n",
    "plt.xlabel('Time ('+timeUnit+')')\n",
    "plt.ylabel('Vibrational quantum state')\n",
    "plt.colorbar()"
   ]
  },
  {
   "cell_type": "code",
   "execution_count": null,
   "metadata": {},
   "outputs": [],
   "source": []
  }
 ],
 "metadata": {
  "kernelspec": {
   "display_name": "Python 3.9.0 64-bit",
   "language": "python",
   "name": "python3"
  },
  "language_info": {
   "codemirror_mode": {
    "name": "ipython",
    "version": 3
   },
   "file_extension": ".py",
   "mimetype": "text/x-python",
   "name": "python",
   "nbconvert_exporter": "python",
   "pygments_lexer": "ipython3",
   "version": "3.9.0"
  },
  "orig_nbformat": 4,
  "vscode": {
   "interpreter": {
    "hash": "5addf786bcd861d1ce5006f23111f8cbb206731e5b61b0a5632ba9e0252558a8"
   }
  }
 },
 "nbformat": 4,
 "nbformat_minor": 2
}
