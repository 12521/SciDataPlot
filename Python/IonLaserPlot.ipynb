{
 "cells": [
  {
   "cell_type": "code",
   "execution_count": null,
   "metadata": {},
   "outputs": [],
   "source": [
    "import numpy as np\n",
    "import matplotlib.pyplot as plt\n",
    "import matplotlib as mpl\n",
    "from matplotlib.ticker import MultipleLocator\n",
    "import os\n",
    "plt.rcParams['ytick.right']  =plt.rcParams['xtick.top'] =True\n",
    "xminorLocator=MultipleLocator(2)\n",
    "#plt.rcParams['set_minor_locator']=xminorLocator\n",
    "plt.rcParams.update({\n",
    "    \"text.usetex\": True,\n",
    "    \"font.family\": \"sans-serif\",\n",
    "    \"font.sans-serif\": [\"TimeNewroman\"]})\n",
    "# for Palatino and other serif fonts use:\n",
    "plt.rcParams.update({\n",
    "    \"text.usetex\": True,\n",
    "    \"font.family\": \"serif\",\n",
    "    \"font.serif\": [\"Palatino\"],\n",
    "})\n",
    "# It's also possible to use the reduced notation by directly setting font.family:\n",
    "plt.rcParams.update({\n",
    "  \"text.usetex\": True,\n",
    "  \"font.family\": \"TimeNewroman\",\n",
    " # \"font.size\": 12,\n",
    "})\n",
    "plt.rcParams['figure.figsize'] = (8,6)\n",
    "plt.rcParams['xtick.direction'] = 'in'\n",
    "plt.rcParams['ytick.direction'] = 'in'\n",
    "#from mpl_toolkits.mplot3d import Axes3D\n",
    "#dir=\"D:\\\\doc\\\\data\\\\ion1testold\\\\DifferentDelatTimeOfPumpAndProbe\\\\dteq50fs\\\\\"\n",
    "#dir=\"D:\\\\doc\\\\data\\\\ion1testold\\\\t500t840\\\\44\\\\\"\n",
    "#dir='D:\\\\doc\\\\data\\\\ion1testold\\\\NoAlignment\\\\41\\\\'\n",
    "dir='D:\\\\dataofpro\\\\'\n",
    "print('Working directory',dir)\n",
    "print(\"\\n\")\n",
    "f=open(dir+\"alog.dat\",encoding=\"utf-8\")\n",
    "print(f.read(1500))\n",
    "\n",
    "\n",
    "levels=100\n",
    "figureDPI=1200\n",
    "figureType=\"jpeg\"\n",
    "timeUnit=\"fs\""
   ]
  },
  {
   "cell_type": "code",
   "execution_count": null,
   "metadata": {},
   "outputs": [],
   "source": [
    "data=np.loadtxt(dir+\"laser.dat\")\n",
    "x=data[:,0]\n",
    "y1=data[:,1]\n",
    "y2=data[:,2]\n",
    "y3=data[:,3]\n",
    "plt.plot(x,y1,'k-',x,y2,'r-',x,y3,'b-')"
   ]
  },
  {
   "cell_type": "code",
   "execution_count": null,
   "metadata": {},
   "outputs": [],
   "source": [
    "data=np.loadtxt(dir+\"laser_fre1.dat\")\n",
    "x=data[:,0]\n",
    "y=data[:,1]\n",
    "plt.plot(x,y,'k-')"
   ]
  },
  {
   "cell_type": "code",
   "execution_count": null,
   "metadata": {},
   "outputs": [],
   "source": [
    "data=np.loadtxt(dir+\"laser_fre2.dat\")\n",
    "x=data[:,0]\n",
    "y=data[:,1]\n",
    "plt.plot(x,y,'k-')"
   ]
  },
  {
   "cell_type": "code",
   "execution_count": null,
   "metadata": {},
   "outputs": [],
   "source": [
    "data=np.loadtxt(dir+\"laser_fre3.dat\")\n",
    "x=data[:,0]\n",
    "y=data[:,1]\n",
    "plt.plot(x,y,'k-')"
   ]
  },
  {
   "cell_type": "code",
   "execution_count": null,
   "metadata": {},
   "outputs": [],
   "source": [
    "data=np.loadtxt(dir+\"time_fre-dis3.dat\")\n",
    "x=data[:,0]\n",
    "y=data[:,1]\n",
    "z=data[:,2]\n",
    "plt.tricontourf(x,y,z)"
   ]
  },
  {
   "cell_type": "code",
   "execution_count": null,
   "metadata": {},
   "outputs": [],
   "source": [
    "\n",
    "data=np.loadtxt(dir+\"laser.dat\")\n",
    "\n",
    "x=data[:,0]\n",
    "y1=data[:,1]\n",
    "y2=data[:,2]\n",
    "y3=data[:,3]\n",
    "plt.subplot(3,3,1)\n",
    "plt.plot(x,y1,'k-')\n",
    "plt.subplot(3,3,2)\n",
    "plt.plot(x,y2,'r-')\n",
    "plt.subplot(3,3,3)\n",
    "plt.plot(x,y3,'b-')\n",
    "plt.subplot(3,3,4)\n",
    "data=np.loadtxt(dir+\"laser_fre1.dat\")\n",
    "x=data[:,0]\n",
    "y=data[:,1]\n",
    "plt.plot(x,y,'k-')\n",
    "plt.subplot(3,3,5)\n",
    "data=np.loadtxt(dir+\"laser_fre2.dat\")\n",
    "x=data[:,0]\n",
    "y=data[:,1]\n",
    "plt.plot(x,y,'r-')\n",
    "plt.subplot(3,3,6)\n",
    "data=np.loadtxt(dir+\"laser_fre3.dat\")\n",
    "x=data[:,0]\n",
    "y=data[:,1]\n",
    "plt.plot(x,y,'b-')\n",
    "plt.subplot(3,3,7)\n",
    "data=np.loadtxt(dir+\"time_fre-dis1.dat\")\n",
    "x=data[:,0]\n",
    "y=data[:,1]\n",
    "z=data[:,2]\n",
    "plt.tricontourf(x,y,z,levels,cmap='jet')\n",
    "plt.subplot(3,3,8)\n",
    "data=np.loadtxt(dir+\"time_fre-dis2.dat\")\n",
    "x=data[:,0]\n",
    "y=data[:,1]\n",
    "z=data[:,2]\n",
    "plt.tricontourf(x,y,z,levels,cmap='jet')\n",
    "plt.subplot(3,3,9)\n",
    "data=np.loadtxt(dir+\"time_fre-dis3.dat\")\n",
    "x=data[:,0]\n",
    "y=data[:,1]\n",
    "z=data[:,2]\n",
    "plt.tricontourf(x,y,z,levels,cmap='jet')"
   ]
  },
  {
   "cell_type": "code",
   "execution_count": null,
   "metadata": {},
   "outputs": [],
   "source": []
  }
 ],
 "metadata": {
  "kernelspec": {
   "display_name": "Python 3.9.0 64-bit",
   "language": "python",
   "name": "python3"
  },
  "language_info": {
   "codemirror_mode": {
    "name": "ipython",
    "version": 3
   },
   "file_extension": ".py",
   "mimetype": "text/x-python",
   "name": "python",
   "nbconvert_exporter": "python",
   "pygments_lexer": "ipython3",
   "version": "3.9.0"
  },
  "orig_nbformat": 4,
  "vscode": {
   "interpreter": {
    "hash": "5addf786bcd861d1ce5006f23111f8cbb206731e5b61b0a5632ba9e0252558a8"
   }
  }
 },
 "nbformat": 4,
 "nbformat_minor": 2
}
