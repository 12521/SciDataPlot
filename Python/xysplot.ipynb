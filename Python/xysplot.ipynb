{
 "cells": [
  {
   "cell_type": "code",
   "execution_count": null,
   "metadata": {},
   "outputs": [],
   "source": [
    "import numpy as np\n",
    "import matplotlib.pyplot as plt\n",
    "import matplotlib as mpl\n",
    "from matplotlib.ticker import MultipleLocator\n",
    "import os\n",
    "plt.rcParams['ytick.right']  =plt.rcParams['xtick.top'] =True\n",
    "xminorLocator=MultipleLocator(2)\n",
    "#plt.rcParams['set_minor_locator']=xminorLocator\n",
    "import matplotlib.pyplot as plt\n",
    "from matplotlib import rcParams\n",
    "\n",
    "config = {\n",
    "    \"font.family\":'serif',\n",
    "    \"font.size\": 8,\n",
    "    \"mathtext.fontset\":'stix',\n",
    "    \"font.serif\": ['SimSun'],\n",
    "}\n",
    "rcParams.update(config)\n",
    "\n",
    "def cm_to_inch(value):\n",
    "    return value/2.54\n",
    "\n",
    "plt.rcParams['figure.figsize'] = (cm_to_inch(8), cm_to_inch(6.5))\n",
    "#plt.rcParams['figure.figsize'] =(4,3)#(3.5,2.5)\n",
    "plt.rcParams['lines.linewidth'] = 1\n",
    "plt.rcParams['xtick.direction'] = 'in'\n",
    "plt.rcParams['ytick.direction'] = 'in'\n",
    "from mpl_toolkits.mplot3d import Axes3D\n",
    "import numpy \n",
    "def setlabel(ax, label, loc=2, borderpad=0.6, **kwargs):\n",
    "    legend = ax.get_legend()\n",
    "    if legend:\n",
    "        ax.add_artist(legend)\n",
    "    line, = ax.plot(numpy.NaN,numpy.NaN,color='none',label=label)\n",
    "    label_legend = ax.legend(handles=[line],\n",
    "                             loc=[-0.15,1.001],\n",
    "                             handlelength=0,\n",
    "                             handleheight=0,\n",
    "                             handletextpad=0,\n",
    "                             borderaxespad=0,\n",
    "                             borderpad=borderpad,\n",
    "                             frameon=False,\n",
    "                             **kwargs)\n",
    "    label_legend.remove()\n",
    "    ax.add_artist(label_legend)\n",
    "    line.remove()\n",
    "def setlabelm(ax, label, loc, borderpad=0.6, **kwargs):\n",
    "    legend = ax.get_legend()\n",
    "    if legend:\n",
    "        ax.add_artist(legend)\n",
    "    line, = ax.plot(numpy.NaN,numpy.NaN,color='none',label=label)\n",
    "    label_legend = ax.legend(handles=[line],\n",
    "                             loc=loc,\n",
    "                             handlelength=0,\n",
    "                             handleheight=0,\n",
    "                             handletextpad=0,\n",
    "                             borderaxespad=0,\n",
    "                             borderpad=borderpad,\n",
    "                             frameon=False,\n",
    "                             **kwargs)\n",
    "    label_legend.remove()\n",
    "    ax.add_artist(label_legend)\n",
    "    line.remove()\n",
    "levels=100\n",
    "figureDPI=600\n",
    "figureType=\"eps\"\n",
    "timeUnit=\"fs\"\n",
    "def xyplot(int_dir,label_x,label_y,out_dir):\n",
    "    if os.path.exists(int_dir):\n",
    "        data=np.loadtxt(int_dir)\n",
    "        # plt.xlim(TimeTurn,TimeEnd)\n",
    "        ax=plt.plot(data[:,0],data[:,1],'k-')#,data[:,0],data[:,2],'r-',data[:,0],1-data[:,1]-data[:,2],'b-')\n",
    "        # plt.legend([\"Gro\",\"Exc\",\"Ion\"],loc=(0.7,0.70))\n",
    "        plt.xlabel(label_x)\n",
    "        plt.ylabel(label_y)\n",
    "        plt.savefig(out_dir+int_dir[-7:-4]+figureType,dpi=figureDPI,bbox_inches=\"tight\")\n",
    "    else:\n",
    "        print(\"No dataset found.\")\n",
    "def xyzplot(int_dir,x_label,y_label,out_dir):\n",
    "    if os.path.exists(int_dir):\n",
    "        dat=np.loadtxt(int_dir)\n",
    "        plt.tricontourf(dat[:,0],dat[:,1],dat[:,2],levels,cmap='jet')\n",
    "        plt.colorbar()\n",
    "        plt.xlabel(x_label)\n",
    "        plt.ylabel(y_label)\n",
    "        plt.savefig(outdir+int_dir[-7:-4]+figureType,dpi=figureDPI,bbox_inches=\"tight\")\n",
    "        plt.show()\n",
    "    else:\n",
    "        print(\"The dataset does not exist. \")\n",
    "    "
   ]
  },
  {
   "cell_type": "code",
   "execution_count": null,
   "metadata": {},
   "outputs": [],
   "source": [
    "intdir='D:\\\\dataofpro\\\\'\n",
    "outdir=intdir"
   ]
  },
  {
   "cell_type": "code",
   "execution_count": null,
   "metadata": {},
   "outputs": [],
   "source": [
    "xyplot(intdir+'orientation.dat',\n",
    "       'Time (fs)',\n",
    "       '$\\\\langle \\\\mathrm{cos}\\\\theta\\\\rangle$',\n",
    "       outdir)"
   ]
  },
  {
   "cell_type": "code",
   "execution_count": null,
   "metadata": {},
   "outputs": [],
   "source": [
    "xyzplot(intdir+'cjm.dat',\n",
    "        \"Time (fs)\",\n",
    "        \"y\",intdir)"
   ]
  },
  {
   "cell_type": "code",
   "execution_count": null,
   "metadata": {},
   "outputs": [],
   "source": []
  }
 ],
 "metadata": {
  "kernelspec": {
   "display_name": "Python 3.9.0 64-bit",
   "language": "python",
   "name": "python3"
  },
  "language_info": {
   "codemirror_mode": {
    "name": "ipython",
    "version": 3
   },
   "file_extension": ".py",
   "mimetype": "text/x-python",
   "name": "python",
   "nbconvert_exporter": "python",
   "pygments_lexer": "ipython3",
   "version": "3.9.0"
  },
  "orig_nbformat": 4,
  "vscode": {
   "interpreter": {
    "hash": "5addf786bcd861d1ce5006f23111f8cbb206731e5b61b0a5632ba9e0252558a8"
   }
  }
 },
 "nbformat": 4,
 "nbformat_minor": 2
}
