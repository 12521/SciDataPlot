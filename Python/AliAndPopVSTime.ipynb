{
 "cells": [
  {
   "cell_type": "code",
   "execution_count": null,
   "metadata": {},
   "outputs": [],
   "source": [
    "import numpy as np\n",
    "import matplotlib.pyplot as plt\n",
    "from matplotlib.ticker import MultipleLocator\n",
    "plt.rcParams['ytick.right']  =plt.rcParams['xtick.top'] =True\n",
    "xminorLocator=MultipleLocator(2)\n",
    "#plt.rcParams['set_minor_locator']=xminorLocator\n",
    "plt.rcParams.update({\n",
    "    \"text.usetex\": True,\n",
    "    \"font.family\": \"sans-serif\",\n",
    "    \"font.sans-serif\": [\"TimeNewroman\"]})\n",
    "# for Palatino and other serif fonts use:\n",
    "plt.rcParams.update({\n",
    "    \"text.usetex\": True,\n",
    "    \"font.family\": \"serif\",\n",
    "    \"font.serif\": [\"Palatino\"],\n",
    "})\n",
    "# It's also possible to use the reduced notation by directly setting font.family:\n",
    "plt.rcParams.update({\n",
    "  \"text.usetex\": True,\n",
    "  \"font.family\": \"TimeNewroman\",\n",
    "  #\"font.size\": 12,\n",
    "})\n",
    "plt.rcParams['figure.figsize'] = (8,6)\n",
    "plt.rcParams['xtick.direction'] = 'in'\n",
    "plt.rcParams['ytick.direction'] = 'in'\n",
    "workDir = \"D:\\\\doc\\\\data\\\\ion1testold\\\\PreAlign\\\\\"\n",
    "figureType=\"jpeg\"\n",
    "figureDPI=1200\n",
    "data1=np.loadtxt(\"D:\\\\doc\\\\data\\\\ion1testold\\\\PreAlign\\\\pop.dat\")\n",
    "data2=np.loadtxt(\"F:\\\\dataofion1\\\\cos1.dat\")\n",
    "x1=data1[:,0]\n",
    "y1=data1[:,1]\n",
    "x2=data2[:,0]-500\n",
    "y2=data2[:,2]\n",
    "fig, ax1 = plt.subplots()\n",
    "color = 'tab:red'\n",
    "ax1.set_xlim([450,3050])\n",
    "ax1.set_ylim([0.32,0.67])\n",
    "ax1.set_xlabel('Time (fs)')\n",
    "ax1.set_ylabel('Ionization probability', color=color)\n",
    "ax1.scatter(x1, y1, color=color)\n",
    "ax1.tick_params(axis='y', labelcolor=color)\n",
    "\n",
    "ax2 = ax1.twinx()  # instantiate a second axes that shares the same x-axis\n",
    "\n",
    "color = 'tab:blue'\n",
    "ax2.set_xlim([450,3050])\n",
    "ax2.set_ylim([0.32,0.73])\n",
    "ax2.set_ylabel('$\\\\langle{\\\\rm cos^2} \\\\theta \\\\rangle$', color=color)  # we already handled the x-label with ax1\n",
    "ax2.plot(x2, y2,'--', color=color)\n",
    "ax2.tick_params(axis='y', labelcolor=color)\n",
    "\n",
    "fig.tight_layout()  # otherwise the right y-label is slightly clipped\n",
    "plt.savefig(workDir+\"AliAndPopVSTime.\"+figureType,bbox_inches = 'tight',dpi=figureDPI)\n",
    "plt.show()\n",
    "import os \n",
    "os.startfile(workDir+\"AliAndPopVSTime.\"+figureType)"
   ]
  },
  {
   "cell_type": "code",
   "execution_count": null,
   "metadata": {},
   "outputs": [],
   "source": []
  },
  {
   "cell_type": "code",
   "execution_count": null,
   "metadata": {},
   "outputs": [],
   "source": []
  }
 ],
 "metadata": {
  "kernelspec": {
   "display_name": "Python 3.9.0 64-bit",
   "language": "python",
   "name": "python3"
  },
  "language_info": {
   "codemirror_mode": {
    "name": "ipython",
    "version": 3
   },
   "file_extension": ".py",
   "mimetype": "text/x-python",
   "name": "python",
   "nbconvert_exporter": "python",
   "pygments_lexer": "ipython3",
   "version": "3.9.0"
  },
  "orig_nbformat": 4,
  "vscode": {
   "interpreter": {
    "hash": "5addf786bcd861d1ce5006f23111f8cbb206731e5b61b0a5632ba9e0252558a8"
   }
  }
 },
 "nbformat": 4,
 "nbformat_minor": 2
}
