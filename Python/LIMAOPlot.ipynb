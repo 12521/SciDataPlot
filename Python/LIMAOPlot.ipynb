{
 "cells": [
  {
   "cell_type": "code",
   "execution_count": null,
   "metadata": {},
   "outputs": [],
   "source": [
    "import numpy as np\n",
    "import matplotlib.pyplot as plt\n",
    "import matplotlib as mpl\n",
    "from matplotlib.ticker import MultipleLocator\n",
    "import os\n",
    "plt.rcParams['ytick.right']  =plt.rcParams['xtick.top'] =True\n",
    "xminorLocator=MultipleLocator(2)\n",
    "#plt.rcParams['set_minor_locator']=xminorLocator\n",
    "plt.rcParams.update({\n",
    "    \"text.usetex\": True,\n",
    "    \"font.family\": \"sans-serif\",\n",
    "    \"font.sans-serif\": [\"Time New Rroman\"]})\n",
    "# for Palatino and other serif fonts use:\n",
    "plt.rcParams.update({\n",
    "    \"text.usetex\": True,\n",
    "    \"font.family\": \"serif\",\n",
    "    #\"font.serif\": [\"Palatino\"],\n",
    "    \"font.serif\": [\"Time New Roman\"], \n",
    "})\n",
    "# It's also possible to use the reduced notation by directly setting font.family:\n",
    "plt.rcParams.update({\n",
    "  \"text.usetex\": True,\n",
    "  \"font.family\": \"Time New Roman\",\n",
    "  \"font.size\": 8,\n",
    "})\n",
    "\n",
    "def cm_to_inch(value):\n",
    "    return value/2.54\n",
    "\n",
    "plt.rcParams['figure.figsize'] = (cm_to_inch(8), cm_to_inch(6.5))\n",
    "#plt.rcParams['figure.figsize'] =(4,3)#(3.5,2.5)\n",
    "plt.rcParams['lines.linewidth'] = 1\n",
    "plt.rcParams['xtick.direction'] = 'in'\n",
    "plt.rcParams['ytick.direction'] = 'in'\n",
    "from mpl_toolkits.mplot3d import Axes3D\n",
    "dir='D:\\\\dataofpro\\\\'\n",
    "print('Working directory',dir)\n",
    "print(\"\\n\")\n",
    "levels=100\n",
    "figureDPI=1200\n",
    "figureType=\"jpeg\"\n",
    "timeUnit=\"ps\""
   ]
  },
  {
   "cell_type": "code",
   "execution_count": null,
   "metadata": {},
   "outputs": [],
   "source": [
    "data=np.loadtxt(dir+\"Pulse.dat\")\n",
    "\n",
    "plt.xlim(0,2)\n",
    "ax=plt.plot(data[:,0],data[:,1],'k-')#,data[:,0],data[:,2],'r-',data[:,0],1-data[:,1]-data[:,2],'b-')\n",
    "#plt.legend([\"Gro\",\"Exc\",\"Ion\"],loc=(0.7,0.70))\n",
    "plt.xlabel(\"Time (\"+timeUnit+\")\")\n",
    "plt.ylabel(\"Intensity (a.u.)\")\n",
    "plt.savefig(dir+\"Pulse.\"+figureType,dpi=figureDPI,bbox_inches=\"tight\")"
   ]
  },
  {
   "cell_type": "code",
   "execution_count": null,
   "metadata": {},
   "outputs": [],
   "source": [
    "data=np.loadtxt(dir+\"J.dat\")\n",
    "x=data[0:,0]\n",
    "y=data[0:,1]\n",
    "#plt.xlim(0,2)\n",
    "ax=plt.plot(x,y,'k-')#,data[:,0],data[:,2],'r-',data[:,0],1-data[:,1]-data[:,2],'b-')\n",
    "#plt.legend([\"Gro\",\"Exc\",\"Ion\"],loc=(0.7,0.70))\n",
    "plt.xlabel(\"Time (\"+timeUnit+\")\")\n",
    "plt.ylabel(\"$\\\\langle J \\\\rangle$\")\n",
    "plt.savefig(dir+\"JExpect.\"+figureType,dpi=figureDPI,bbox_inches=\"tight\")"
   ]
  },
  {
   "cell_type": "code",
   "execution_count": null,
   "metadata": {},
   "outputs": [],
   "source": [
    "data=np.loadtxt(dir+\"cos1Zz.dat\")\n",
    "x=data[0:,0]\n",
    "y=data[0:,1]\n",
    "#plt.xlim(0,2)\n",
    "ax=plt.plot(x,y,'k-')#,data[:,0],data[:,2],'r-',data[:,0],1-data[:,1]-data[:,2],'b-')\n",
    "#plt.legend([\"Gro\",\"Exc\",\"Ion\"],loc=(0.7,0.70))\n",
    "plt.xlabel(\"Time (\"+timeUnit+\")\")\n",
    "plt.ylabel(\"$\\\\langle$cos$\\\\theta\\\\rangle_{Zz}$\")\n",
    "plt.savefig(dir+\"cos1Zz.\"+figureType,dpi=figureDPI,bbox_inches=\"tight\")"
   ]
  },
  {
   "cell_type": "code",
   "execution_count": null,
   "metadata": {},
   "outputs": [],
   "source": [
    "data=np.loadtxt(dir+\"cos2Zz.dat\")\n",
    "x=data[0:,0]\n",
    "y=data[0:,1]\n",
    "#plt.xlim(0,2)\n",
    "ax=plt.plot(x,y,'k-')#,data[:,0],data[:,2],'r-',data[:,0],1-data[:,1]-data[:,2],'b-')\n",
    "#plt.legend([\"Gro\",\"Exc\",\"Ion\"],loc=(0.7,0.70))\n",
    "plt.xlabel(\"Time (\"+timeUnit+\")\")\n",
    "plt.ylabel(\"$\\\\langle \\\\rm{cos^2}\\\\theta\\\\rangle_{Zz}$\")\n",
    "plt.savefig(dir+\"cos2Zz.\"+figureType,dpi=figureDPI,bbox_inches=\"tight\")"
   ]
  },
  {
   "cell_type": "code",
   "execution_count": null,
   "metadata": {},
   "outputs": [],
   "source": [
    "if os.path.exists(dir+\"cos2Xx.dat\"):\n",
    "    data=np.loadtxt(dir+\"cos2Xx.dat\")\n",
    "    x=data[0:,0]\n",
    "    y=data[0:,1]\n",
    "    #plt.xlim(0,2)\n",
    "    ax=plt.plot(x,y,'k-')#,data[:,0],data[:,2],'r-',data[:,0],1-data[:,1]-data[:,2],'b-')\n",
    "    #plt.legend([\"Gro\",\"Exc\",\"Ion\"],loc=(0.7,0.70))\n",
    "    plt.xlabel(\"Time (\"+timeUnit+\")\")\n",
    "    plt.ylabel(\"$\\\\langle \\\\rm{cos^2}\\\\theta\\\\rangle_{Xx}$\")\n",
    "    plt.savefig(dir+\"cos2Zz.\"+figureType,dpi=figureDPI,bbox_inches=\"tight\")\n",
    "    \n",
    "    data=np.loadtxt(dir+\"cos2Yy.dat\")\n",
    "    x=data[0:,0]\n",
    "    y=data[0:,1]\n",
    "    #plt.xlim(0,2)\n",
    "    ax=plt.plot(x,y,'k-')#,data[:,0],data[:,2],'r-',data[:,0],1-data[:,1]-data[:,2],'b-')\n",
    "    #plt.legend([\"Gro\",\"Exc\",\"Ion\"],loc=(0.7,0.70))\n",
    "    plt.xlabel(\"Time (\"+timeUnit+\")\")\n",
    "    plt.ylabel(\"$\\\\langle \\\\rm{cos^2}\\\\theta\\\\rangle_{Yy}$\")\n",
    "    plt.savefig(dir+\"cos2Yy.\"+figureType,dpi=figureDPI,bbox_inches=\"tight\")"
   ]
  },
  {
   "cell_type": "code",
   "execution_count": null,
   "metadata": {},
   "outputs": [],
   "source": []
  }
 ],
 "metadata": {
  "kernelspec": {
   "display_name": "Python 3.9.0 64-bit",
   "language": "python",
   "name": "python3"
  },
  "language_info": {
   "codemirror_mode": {
    "name": "ipython",
    "version": 3
   },
   "file_extension": ".py",
   "mimetype": "text/x-python",
   "name": "python",
   "nbconvert_exporter": "python",
   "pygments_lexer": "ipython3",
   "version": "3.9.0"
  },
  "orig_nbformat": 4,
  "vscode": {
   "interpreter": {
    "hash": "5addf786bcd861d1ce5006f23111f8cbb206731e5b61b0a5632ba9e0252558a8"
   }
  }
 },
 "nbformat": 4,
 "nbformat_minor": 2
}
