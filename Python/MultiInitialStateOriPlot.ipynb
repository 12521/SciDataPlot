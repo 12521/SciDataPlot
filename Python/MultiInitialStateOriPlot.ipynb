{
 "cells": [
  {
   "cell_type": "code",
   "execution_count": null,
   "metadata": {},
   "outputs": [],
   "source": [
    "import numpy as np\n",
    "import matplotlib.pyplot as plt\n",
    "import matplotlib as mpl\n",
    "from matplotlib.ticker import MultipleLocator\n",
    "import os\n",
    "plt.rcParams['ytick.right']  =plt.rcParams['xtick.top'] =True\n",
    "xminorLocator=MultipleLocator(2)\n",
    "#plt.rcParams['set_minor_locator']=xminorLocator\n",
    "plt.rcParams.update({\n",
    "    \"text.usetex\": True,\n",
    "    \"font.family\": \"sans-serif\",\n",
    "    \"font.sans-serif\": [\"Time New Rroman\"]})\n",
    "# for Palatino and other serif fonts use:\n",
    "plt.rcParams.update({\n",
    "    \"text.usetex\": True,\n",
    "    \"font.family\": \"serif\",\n",
    "    #\"font.serif\": [\"Palatino\"],\n",
    "    \"font.serif\": [\"Time New Roman\"], \n",
    "})\n",
    "# It's also possible to use the reduced notation by directly setting font.family:\n",
    "plt.rcParams.update({\n",
    "  \"text.usetex\": True,\n",
    "  \"font.family\": \"Time New Roman\",\n",
    "  \"font.size\": 8,\n",
    "})\n",
    "\n",
    "def cm_to_inch(value):\n",
    "    return value/2.54\n",
    "\n",
    "plt.rcParams['figure.figsize'] = (cm_to_inch(8), cm_to_inch(6.5))\n",
    "#plt.rcParams['figure.figsize'] =(4,3)#(3.5,2.5)\n",
    "plt.rcParams['lines.linewidth'] = 1\n",
    "plt.rcParams['xtick.direction'] = 'in'\n",
    "plt.rcParams['ytick.direction'] = 'in'\n",
    "#from mpl_toolkits.mplot3d import Axes3D\n",
    "\n",
    "dir='D:\\\\doc\\\\data\\\\ori\\\\jeq\\\\'\n",
    "print('Working directory',dir)\n",
    "print(\"\\n\")\n",
    "f=open(dir+str(0)+\"\\\\alog.dat\",encoding=\"utf-8\")\n",
    "print(f.read(1500))\n",
    "levels=100\n",
    "figureDPI=1200\n",
    "figureType=\"jpeg\"\n",
    "timeUnit=\"fs\""
   ]
  },
  {
   "cell_type": "code",
   "execution_count": null,
   "metadata": {},
   "outputs": [],
   "source": [
    "j=0\n",
    "data=np.loadtxt(dir+'0\\\\tap.dat')\n",
    "x=data[:,0]/2250\n",
    "y=data[:,1]/180\n",
    "print(len(x))"
   ]
  },
  {
   "cell_type": "code",
   "execution_count": null,
   "metadata": {},
   "outputs": [],
   "source": [
    "\n",
    "dataw=np.loadtxt(\"D:\\\\K.txt\")\n",
    "w=[0 for i in range(len(dataw[:,1]))]\n",
    "z= [0 for i in range(len(x))]\n",
    "for k in range(0,len(dataw[:,1])):\n",
    "    w[k] = dataw[k,1]\n",
    "    print('J = ',k,w[k])\n",
    "for i in range(0,len(dataw[:,1])):\n",
    "    print('J= ',i)\n",
    "    data=np.loadtxt(dir+str(i)+'\\\\tap.dat')\n",
    "    print(dir+str(i)+'\\\\tap.dat')\n",
    "    for j in range(0,240000-1):\n",
    "        z[j]=data[j,2]*w[i]+z[j]\n",
    "plt.tricontourf(x,y,z,levels,cmap='jet')\n",
    "plt.title('    $T$ =  0 K',loc='left')\n",
    "plt.colorbar()\n",
    "plt.xlabel('Time ($t$/$T_{\\\\rm{rot}}$)')\n",
    "plt.ylabel('$\\\\theta$ ($\\\\pi$)')\n",
    "plt.savefig(dir+\"wap00K.\"+figureType,bbox_inches=\"tight\",transparent=True,dpi=figureDPI)\n",
    "plt.savefig(dir+\"wap00K.\"+\"eps\",bbox_inches=\"tight\",transparent=True,dpi=figureDPI)"
   ]
  },
  {
   "cell_type": "code",
   "execution_count": null,
   "metadata": {},
   "outputs": [],
   "source": [
    "print('Time ($t$/$T_{rot}$)')"
   ]
  },
  {
   "cell_type": "code",
   "execution_count": null,
   "metadata": {},
   "outputs": [],
   "source": []
  }
 ],
 "metadata": {
  "kernelspec": {
   "display_name": "Python 3.9.0 64-bit",
   "language": "python",
   "name": "python3"
  },
  "language_info": {
   "codemirror_mode": {
    "name": "ipython",
    "version": 3
   },
   "file_extension": ".py",
   "mimetype": "text/x-python",
   "name": "python",
   "nbconvert_exporter": "python",
   "pygments_lexer": "ipython3",
   "version": "3.9.0"
  },
  "orig_nbformat": 4,
  "vscode": {
   "interpreter": {
    "hash": "5addf786bcd861d1ce5006f23111f8cbb206731e5b61b0a5632ba9e0252558a8"
   }
  }
 },
 "nbformat": 4,
 "nbformat_minor": 2
}
