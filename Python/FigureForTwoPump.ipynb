{
 "cells": [
  {
   "cell_type": "code",
   "execution_count": null,
   "metadata": {},
   "outputs": [],
   "source": [
    "import numpy as np\n",
    "import matplotlib.pyplot as plt\n",
    "import matplotlib as mpl\n",
    "from matplotlib.ticker import MultipleLocator\n",
    "import os\n",
    "plt.rcParams['ytick.right']  =plt.rcParams['xtick.top'] =True\n",
    "xminorLocator=MultipleLocator(2)\n",
    "#plt.rcParams['set_minor_locator']=xminorLocator\n",
    "# It's also possible to use the reduced notation by directly setting font.family:\n",
    "plt.rcParams.update({\n",
    "  \"text.usetex\": True,\n",
    "  \"font.family\": \"Time New Roman\",\n",
    "  \"font.size\": 8,\n",
    "})\n",
    "\n",
    "def cm2inch(value):\n",
    "    return value/2.54\n",
    "\n",
    "plt.rcParams['figure.figsize'] = (cm2inch(8), cm2inch(6.5))\n",
    "#plt.rcParams['figure.figsize'] =(4,3)#(3.5,2.5)\n",
    "plt.rcParams['lines.linewidth'] = 1\n",
    "plt.rcParams['xtick.direction'] = 'in'\n",
    "plt.rcParams['ytick.direction'] = 'in'\n",
    "from mpl_toolkits.mplot3d import Axes3D\n",
    "\n",
    "levels=100\n",
    "figureDPI=1200\n",
    "figureType=\"jpeg\"\n",
    "timeUnit=\"fs\"\n",
    "outDir='D:\\\\doc\\\\data\\\\twoPump\\\\'"
   ]
  },
  {
   "cell_type": "code",
   "execution_count": null,
   "metadata": {},
   "outputs": [],
   "source": [
    "data=np.loadtxt('D:\\\\dataofpro\\\\t2\\\\eneTRJV.dat')\n",
    "x=data[:,0]\n",
    "y1=data[:,1]\n",
    "y2=data[:,2]\n",
    "y3=data[:,3]\n",
    "plt.plot(x,y1,y2,y3)\n"
   ]
  },
  {
   "cell_type": "code",
   "execution_count": null,
   "metadata": {},
   "outputs": [],
   "source": [
    "data=np.loadtxt('D:\\\\dataofpro\\\\t2\\\\eneTRJV.dat')\n",
    "t = data[:,0]\n",
    "\n",
    "population_by_continent = {\n",
    "    'R': data[:,1],\n",
    "    'J':  data[:,2],\n",
    "    'V':  data[:,3],\n",
    "}\n",
    "\n",
    "fig, ax = plt.subplots()\n",
    "ax.stackplot(t, population_by_continent.values(),\n",
    "             labels=population_by_continent.keys(), alpha=0.6)\n",
    "ax.legend(loc='lower center')\n",
    "#ax.set_title('World population')\n",
    "ax.set_xlabel('Time (fs)')\n",
    "ax.set_ylabel('Energy (a.u.)')\n",
    "plt.savefig(outDir+'EnergyRJV.'+figureType,bbox_inches ='tight',dpi=figureDPI)\n",
    "plt.show()"
   ]
  },
  {
   "cell_type": "code",
   "execution_count": null,
   "metadata": {},
   "outputs": [],
   "source": []
  }
 ],
 "metadata": {
  "kernelspec": {
   "display_name": "Python 3.10.5 64-bit (windows store)",
   "language": "python",
   "name": "python3"
  },
  "language_info": {
   "codemirror_mode": {
    "name": "ipython",
    "version": 3
   },
   "file_extension": ".py",
   "mimetype": "text/x-python",
   "name": "python",
   "nbconvert_exporter": "python",
   "pygments_lexer": "ipython3",
   "version": "3.10.5"
  },
  "orig_nbformat": 4,
  "vscode": {
   "interpreter": {
    "hash": "8687b81b5d14307c58608bd19c9f92d9c321847991efa868faf2d3a3bcd23c46"
   }
  }
 },
 "nbformat": 4,
 "nbformat_minor": 2
}
