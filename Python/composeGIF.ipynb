{
 "cells": [
  {
   "cell_type": "code",
   "execution_count": null,
   "metadata": {},
   "outputs": [],
   "source": [
    "import  imageio\n",
    "import os\n",
    "def compose_gif(image_list,gif_name,myduration):\n",
    "    frames=[]\n",
    "    for image_name in image_list:\n",
    "        frames.append(imageio.imread(image_name))\n",
    "    imageio.mimsave(gif_name,frames,'GIF',duration=myduration)\n",
    "    \n",
    "    return"
   ]
  },
  {
   "cell_type": "code",
   "execution_count": null,
   "metadata": {},
   "outputs": [],
   "source": [
    "#def main():\n",
    "gif_name = \"output.gif\"\n",
    "dir=\"D:\\\\doc\\\\data\\\\ion1testold\\\\DifferentDelatTimeOfPumpAndProbe\\\\\"\n",
    "fileList =os.listdir(dir)\n",
    "print(fileList)\n",
    "image_list=list()\n",
    "print(\"Checking image list\")\n",
    "n=len(fileList)\n",
    "for i in range(n):\n",
    "    s=dir+str(fileList[i])\n",
    "    if s[-5:]==\".jpeg\":\n",
    "        image_list.append(s)\n",
    "        \n",
    "        \n",
    "print(image_list)\n",
    "myduration=eval(input(\"duration: s\"))\n",
    "compose_gif(image_list,dir+gif_name,myduration)\n",
    "print(\"Created\")\n",
    "#if __name__==\"__main__\":\n",
    " #   main()"
   ]
  },
  {
   "cell_type": "code",
   "execution_count": null,
   "metadata": {},
   "outputs": [],
   "source": [
    "from mpl_toolkits.axes_grid1 import ImageGrid\n",
    "import  numpy as np\n",
    "import matplotlib.pyplot as plt\n",
    "x = np.random.random(size=(10,10))\n",
    "fig = plt.figure()\n",
    "grid = ImageGrid(fig, 111,\n",
    "nrows_ncols = (1,2),\n",
    "axes_pad = 0.05,\n",
    "cbar_location = \"right\",\n",
    "cbar_mode=\"single\",\n",
    "cbar_size=\"5%\",\n",
    "cbar_pad=0.05\n",
    ")\n",
    "grid[0].imshow(x)\n",
    "grid[0].axis('off')\n",
    "grid[0].set_title('dog')\n",
    "imc = grid[1].imshow(x, cmap='hot', interpolation='nearest')\n",
    "grid[1].axis('off')\n",
    "grid[1].set_title('dog')\n",
    "plt.colorbar(imc, cax=grid.cbar_axes[0])"
   ]
  }
 ],
 "metadata": {
  "kernelspec": {
   "display_name": "Python 3.9.0 64-bit",
   "language": "python",
   "name": "python3"
  },
  "language_info": {
   "codemirror_mode": {
    "name": "ipython",
    "version": 3
   },
   "file_extension": ".py",
   "mimetype": "text/x-python",
   "name": "python",
   "nbconvert_exporter": "python",
   "pygments_lexer": "ipython3",
   "version": "3.9.0"
  },
  "orig_nbformat": 4,
  "vscode": {
   "interpreter": {
    "hash": "5addf786bcd861d1ce5006f23111f8cbb206731e5b61b0a5632ba9e0252558a8"
   }
  }
 },
 "nbformat": 4,
 "nbformat_minor": 2
}
