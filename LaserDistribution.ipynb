{
 "cells": [
  {
   "cell_type": "code",
   "execution_count": 4,
   "metadata": {},
   "outputs": [
    {
     "name": "stdout",
     "output_type": "stream",
     "text": [
      "Working directory D:\\dataofpro\\\n",
      "\n",
      "\n"
     ]
    }
   ],
   "source": [
    "import numpy as np\n",
    "import matplotlib.pyplot as plt\n",
    "import matplotlib as mpl\n",
    "from matplotlib.ticker import MultipleLocator\n",
    "import os\n",
    "plt.rcParams['ytick.right']  =plt.rcParams['xtick.top'] =True\n",
    "xminorLocator=MultipleLocator(2)\n",
    "#plt.rcParams['set_minor_locator']=xminorLocator\n",
    "\n",
    "plt.rcParams['figure.figsize'] = (8,6)\n",
    "plt.rcParams['xtick.direction'] = 'in'\n",
    "plt.rcParams['ytick.direction'] = 'in'\n",
    "#from mpl_toolkits.mplot3d import Axes3D\n",
    "#dir=\"D:\\\\doc\\\\data\\\\ion1testold\\\\DifferentDelatTimeOfPumpAndProbe\\\\dteq50fs\\\\\"\n",
    "#dir=\"D:\\\\doc\\\\data\\\\ion1testold\\\\t500t840\\\\44\\\\\"\n",
    "#dir='D:\\\\doc\\\\data\\\\ion1testold\\\\NoAlignment\\\\41\\\\'\n",
    "dir='D:\\\\dataofpro\\\\'\n",
    "print('Working directory',dir)\n",
    "print(\"\\n\")\n",
    "levels=100\n",
    "figureDPI=1200\n",
    "figureType=\"jpeg\"\n",
    "timeUnit=\"fs\""
   ]
  },
  {
   "cell_type": "code",
   "execution_count": 5,
   "metadata": {},
   "outputs": [
    {
     "data": {
      "text/plain": [
       "[<matplotlib.lines.Line2D at 0x2311d16edf0>]"
      ]
     },
     "execution_count": 5,
     "metadata": {},
     "output_type": "execute_result"
    },
    {
     "data": {
      "image/png": "[encoded data removed]",
      "text/plain": [
       "<Figure size 576x432 with 1 Axes>"
      ]
     },
     "metadata": {
      "needs_background": "light"
     },
     "output_type": "display_data"
    }
   ],
   "source": [
    "data=np.loadtxt(dir+\"Laserfield.dat\")\n",
    "x=data[:,0]\n",
    "y=data[:,1]\n",
    "z=data[:,2]\n",
    "plt.plot(x,y)"
   ]
  },
  {
   "cell_type": "code",
   "execution_count": 6,
   "metadata": {},
   "outputs": [],
   "source": [
    "plt.figure(figsize=(12,9))\n",
    "\n",
    "plt.subplot(2,2,1)\n",
    "plt.title(\"(a)\",loc='left')\n",
    "data=np.loadtxt(dir+\"Laserfield.dat\")\n",
    "x=data[:,0]\n",
    "y=data[:,1]\n",
    "z=data[:,2]\n",
    "plt.xlabel(\"Time (fs)\")\n",
    "plt.ylabel(\"Intensity (a.u.)\")\n",
    "plt.plot(x,z)\n",
    "plt.subplot(2,2,2)\n",
    "plt.title(\"(b)\",loc='left')\n",
    "plt.plot(x,y,'--',x,-y,'--')\n",
    "plt.xlabel(\"Time (fs)\")\n",
    "plt.ylabel(\"Intensity (a.u.)\")\n",
    "plt.subplot(2,2,3)\n",
    "plt.title(\"(c)\",loc='left')\n",
    "data=np.loadtxt(dir+\"laser_fre1.dat\")\n",
    "x=data[:,0]\n",
    "y=data[:,1]\n",
    "plt.xlabel(\"Intensity (arb.units)\") \n",
    "plt.ylabel(\"Frequency (a.u.)\")\n",
    "#plt.xlim(0,5)\n",
    "plt.ylim(min(np.loadtxt(dir+\"TimeFrequencyDistribution.dat\")[:,1]),max(np.loadtxt(dir+\"TimeFrequencyDistribution.dat\")[:,1]))\n",
    "plt.plot(-y,x)\n",
    "plt.subplot(2,2,4)\n",
    "plt.title(\"(d)\",loc='left')\n",
    "data=np.loadtxt(dir+\"TimeFrequencyDistribution.dat\")\n",
    "x=data[:,0]\n",
    "y=data[:,1]\n",
    "z=data[:,2]\n",
    "plt.xlabel(\"Time (fs)\")\n",
    "plt.ylabel(\"Frequency (a.u.)\")\n",
    "plt.tricontourf(x,y,z,100,cmap='jet')\n",
    "#plt.colorbar()\n",
    "plt.savefig(dir+\"TimeFrequencyDistribution.\"+figureType,bbox_inches = 'tight',dpi=figureDPI)"
   ]
  },
  {
   "cell_type": "code",
   "execution_count": null,
   "metadata": {},
   "outputs": [],
   "source": [
    "data=np.loadtxt(\"D:\\\\LaserTime.dat\")\n",
    "x=data[:,0]\n",
    "y=data[:,1]\n",
    "plt.xlabel(\"Time (fs)\")\n",
    "plt.ylabel(\"$E(t)$ (V/m)\")\n",
    "plt.plot(x,y)\n"
   ]
  },
  {
   "cell_type": "code",
   "execution_count": null,
   "metadata": {},
   "outputs": [],
   "source": [
    "data=np.loadtxt(\"D:\\\\laserfrequency.dat\")\n",
    "x=data[:,0]\n",
    "y=data[:,1]\n",
    "plt.ylabel(\"Intensity (arb.units)\") \n",
    "plt.xlabel(\"Frequency (a.u.)\")\n",
    "plt.plot(x,y)"
   ]
  }
 ],
 "metadata": {
  "kernelspec": {
   "display_name": "Python 3.9.0 64-bit",
   "language": "python",
   "name": "python3"
  },
  "language_info": {
   "codemirror_mode": {
    "name": "ipython",
    "version": 3
   },
   "file_extension": ".py",
   "mimetype": "text/x-python",
   "name": "python",
   "nbconvert_exporter": "python",
   "pygments_lexer": "ipython3",
   "version": "3.9.0"
  },
  "orig_nbformat": 4,
  "vscode": {
   "interpreter": {
    "hash": "5addf786bcd861d1ce5006f23111f8cbb206731e5b61b0a5632ba9e0252558a8"
   }
  }
 },
 "nbformat": 4,
 "nbformat_minor": 2
}
