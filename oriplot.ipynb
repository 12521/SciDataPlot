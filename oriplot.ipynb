{
 "cells": [
  {
   "cell_type": "code",
   "execution_count": null,
   "metadata": {},
   "outputs": [],
   "source": [
    "import numpy as np\n",
    "import matplotlib.pyplot as plt\n",
    "import matplotlib.pyplot as plt\n",
    "from matplotlib.ticker import MultipleLocator\n",
    "plt.rcParams['ytick.right']  =plt.rcParams['xtick.top'] =True\n",
    "xminorLocator=MultipleLocator(2)\n",
    "#plt.rcParams['set_minor_locator']=xminorLocator\n",
    "plt.rcParams.update({\n",
    "    \"text.usetex\": True,\n",
    "    \"font.family\": \"sans-serif\",\n",
    "    \"font.sans-serif\": [\"TimeNewroman\"]})\n",
    "# for Palatino and other serif fonts use:\n",
    "plt.rcParams.update({\n",
    "    \"text.usetex\": True,\n",
    "    \"font.family\": \"serif\",\n",
    "    \"font.serif\": [\"Palatino\"],\n",
    "})\n",
    "# It's also possible to use the reduced notation by directly setting font.family:\n",
    "plt.rcParams.update({\n",
    "  \"text.usetex\": True,\n",
    "  \"font.family\": \"TimeNewroman\"\n",
    "})\n",
    "#from mpl_toolkits.mplot3d import Axes3D\n",
    "dir=\"F:\\\\doc\\\\ori1\\\\twoHCP\\\\orient_by_two_oppposite_HCP_with_different_delay_time_at_5_K\\\\26\\\\\"\n",
    "plt.rcParams['figure.figsize'] = (8,6)\n",
    "plt.rcParams['xtick.direction'] = 'in'\n",
    "plt.rcParams['ytick.direction'] = 'in'\n",
    "f=open(dir+\"alog.txt\",encoding=\"utf-8\")\n",
    "print(f.read())\n",
    "import os\n",
    "os.startfile(dir)"
   ]
  },
  {
   "cell_type": "code",
   "execution_count": null,
   "metadata": {},
   "outputs": [],
   "source": [
    "TimeBegin = -2500\n",
    "TimeEnd =7500\n",
    "TimeTurn =7500"
   ]
  },
  {
   "cell_type": "markdown",
   "metadata": {},
   "source": [
    "###plot potential energy"
   ]
  },
  {
   "cell_type": "code",
   "execution_count": null,
   "metadata": {},
   "outputs": [],
   "source": [
    "###plot potential energy\n",
    "data=np.loadtxt(dir+\"pot.dat\")\n",
    "x=data[:,0]\n",
    "y1=data[:,1]\n",
    "y2=data[:,2]\n",
    "\n",
    "fig, ax1 = plt.subplots()\n",
    "\n",
    "color = 'tab:red'\n",
    "ax1.set_xlabel('$\\\\textit{R}$ (a.u.)')\n",
    "ax1.set_ylabel(\"Intensity (a.u.)\", color=color)\n",
    "ax1.plot(x, y1, color=color)\n",
    "ax1.tick_params(axis='y', labelcolor=color)\n",
    "plt.legend(['$X^1\\Sigma^+$'],loc='lower left')\n",
    "ax2 = ax1.twinx()  # instantiate a second axes that shares the same x-axis\n",
    "\n",
    "color = 'tab:blue'\n",
    "ax2.set_ylabel(\"Intensity (a.u.)\", color=color)  # we already handled the x-label with ax1\n",
    "ax2.plot(x, y2,'--', color=color)\n",
    "ax2.tick_params(axis='y', labelcolor=color)\n",
    "plt.legend(['$X^1\\Sigma^+$--$X^1 \\Sigma ^+$'],loc='upper right')\n",
    "fig.tight_layout()  # otherwise the right y-label is slightly clipped\n",
    "plt.savefig(dir+\"PotAndDip.jpeg\",bbox_inches = 'tight',dpi=600)\n",
    "plt.show()"
   ]
  },
  {
   "cell_type": "code",
   "execution_count": null,
   "metadata": {},
   "outputs": [],
   "source": [
    "data=np.loadtxt(dir+\"laser.dat\")\n",
    "x=data[:,0]\n",
    "y1=data[:,1]\n",
    "y2=data[:,2]\n",
    "y3=data[:,3]\n",
    "#plt.grid(False)\n",
    "plt.xlabel('Time (fs)')\n",
    "plt.ylabel(\"Intensity (a.u.)\")\n",
    "plt.xlim(TimeBegin, TimeEnd)\n",
    "plt.plot(x,y1,'k-',x,y2,'r-',x,y3,'b-')\n",
    "plt.legend([\"First\", \"Second\", \"Third\"],loc=(0.75,0.7))\n",
    "plt.savefig(dir+\"LaserFiled.jpeg\",bbox_inches = 'tight',transparent=True,dpi=600)\n",
    "plt.show()"
   ]
  },
  {
   "cell_type": "code",
   "execution_count": null,
   "metadata": {},
   "outputs": [],
   "source": [
    "\n",
    "import scipy.ndimage\n",
    "plt.figure(figsize=(12,10))\n",
    "plt.subplot(2,2,1)\n",
    "DataAng =np.loadtxt(dir+\"wave0.dat\")\n",
    "#DataAng=scipy.ndimage.zoom(DataAng,1)\n",
    "#plt.style.use('_mpl-gallery-nogrid')\n",
    "x=DataAng[:,0]\n",
    "y=DataAng[:,1]\n",
    "z=DataAng[:,2]\n",
    "plt.xlim(-5, 5)\n",
    "plt.ylim(-5, 5)\n",
    "plt.title('(a)',loc='left')\n",
    "ax=plt.tricontourf(x,y,z)\n",
    "#interpolation='spline16'\n",
    "plt.colorbar()\n",
    "plt.xlabel(\"$\\tR$ (a.u.)\")\n",
    "plt.ylabel(\"$\\tR$ (a.u.)\")\n",
    "plt.subplot(2,2,2)\n",
    "DataAng =np.loadtxt(dir+\"waveend.dat\")\n",
    "#DataAng=scipy.ndimage.zoom(DataAng,1)\n",
    "#plt.style.use('_mpl-gallery-nogrid')\n",
    "x=DataAng[:,0]\n",
    "y=DataAng[:,1]\n",
    "z=DataAng[:,2]\n",
    "plt.xlim(-5, 5)\n",
    "plt.ylim(-5, 5)\n",
    "plt.title('(b)',loc='left')\n",
    "ax=plt.tricontourf(x,y,z)\n",
    "#interpolation='spline16'\n",
    "plt.colorbar()\n",
    "plt.xlabel(\"$\\tR$ (a.u.)\")\n",
    "plt.ylabel(\"$\\tR$ (a.u.)\")\n",
    "\n",
    "\n",
    "plt.savefig(dir+\"InitialWavePacket.jpeg\",bbox_inches = 'tight',transparent=True,dpi=600)\n",
    "plt.show()"
   ]
  },
  {
   "cell_type": "code",
   "execution_count": null,
   "metadata": {},
   "outputs": [],
   "source": [
    "data=np.loadtxt(dir+\"cos1.dat\")\n",
    "x=data[:,0]\n",
    "y1=data[:,1]\n",
    "y2=data[:,2]\n",
    "\n",
    "fig, ax1 = plt.subplots()\n",
    "\n",
    "color = 'tab:red'\n",
    "ax1.set_xlabel('Time (fs)')\n",
    "ax1.set_ylabel('$\\\\langle{\\\\rm  cos} \\\\theta \\\\rangle$', color=color)\n",
    "ax1.plot(x, y1, color=color)\n",
    "ax1.tick_params(axis='y', labelcolor=color)\n",
    "plt.xlim(TimeBegin, TimeEnd)\n",
    "ax2 = ax1.twinx()  # instantiate a second axes that shares the same x-axis\n",
    "\n",
    "color = 'tab:blue'\n",
    "ax2.set_ylabel('$\\\\langle{\\\\rm cos^2} \\\\theta \\\\rangle$', color=color)  # we already handled the x-label with ax1\n",
    "ax2.plot(x, y2,'--', color=color)\n",
    "ax2.tick_params(axis='y', labelcolor=color)\n",
    "\n",
    "fig.tight_layout()  # otherwise the right y-label is slightly clipped\n",
    "plt.savefig(dir+\"AlignmentAndOrientation.jpeg\",bbox_inches = 'tight',dpi=600)\n",
    "plt.show()"
   ]
  },
  {
   "cell_type": "code",
   "execution_count": null,
   "metadata": {},
   "outputs": [],
   "source": [
    "plt.figure(figsize=(12,9))\n",
    "plt.subplot(2,2,1)\n",
    "DataAng =np.loadtxt(dir+\"tap.dat\")\n",
    "#plt.style.use('_mpl-gallery-nogrid')\n",
    "x=DataAng[:,0]\n",
    "y=DataAng[:,1]\n",
    "z=DataAng[:,2]\n",
    "levels=np.linspace(z.min(), z.max(), 50)\n",
    "plt.title(\"(a)\",loc='left')\n",
    "plt.xlim(TimeBegin, TimeEnd )\n",
    "plt.tricontourf(x,y,z)\n",
    "plt.colorbar()\n",
    "plt.xlabel(\"Time (fs)\")\n",
    "plt.ylabel(\"$\\\\theta$ (Degrees)\")\n",
    "plt.subplot(2,2,2)\n",
    "DataAng =np.loadtxt(dir+\"trp.dat\")\n",
    "#plt.style.use('_mpl-gallery-nogrid')\n",
    "x=DataAng[:,0]\n",
    "y=DataAng[:,1]\n",
    "z=DataAng[:,2]\n",
    "levels=np.linspace(z.min(), z.max(), 50)\n",
    "plt.title(\"(b)\",loc='left')\n",
    "plt.xlim(TimeBegin+5, TimeEnd-5 )\n",
    "plt.tricontourf(x,y,z)\n",
    "plt.colorbar()\n",
    "plt.xlabel(\"Time (fs)\")\n",
    "plt.ylabel(\"$\\tR$ (a.u.)\")\n",
    "plt.savefig(dir+\"WaveDis.png\",bbox_inches = 'tight',dpi=600)\n",
    "plt.show()"
   ]
  },
  {
   "cell_type": "code",
   "execution_count": null,
   "metadata": {},
   "outputs": [],
   "source": [
    "data=np.loadtxt(dir+\"popu1.dat\")\n",
    "plt.xlim(TimeBegin,TimeEnd)\n",
    "ax=plt.plot(data[:,0],data[:,1],'k-')\n",
    "plt.ylim(-0.1,1.1)\n",
    "plt.xlabel(\"Time (fs)\")\n",
    "plt.ylabel(\"Population\")\n",
    "plt.savefig(dir+\"popu.jpeg\",dpi=600,bbox_inches=\"tight\")"
   ]
  },
  {
   "cell_type": "code",
   "execution_count": null,
   "metadata": {},
   "outputs": [],
   "source": [
    "data=np.loadtxt(dir+\"p_veq0.dat\")\n",
    "plt.xlim(TimeBegin,TimeEnd)\n",
    "ax=plt.plot(data[:,0],data[:,1],'k-',data[:,0],data[:,2],'r-',data[:,0],data[:,3],'b-',data[:,0],data[:,4],'k--',data[:,0],data[:,5],'r--',data[:,0],data[:,6],'b--')\n",
    "plt.ylim(-0.1,1.1)\n",
    "plt.xlabel(\"Time (fs)\")\n",
    "plt.ylabel(\"Population\")\n",
    "plt.legend(['$| 0,0 \\\\rangle$','$| 0,1 \\\\rangle$','$| 0,2 \\\\rangle$','$| 0,3 \\\\rangle$','$| 0,4 \\\\rangle$','$| 0,5 \\\\rangle$'])\n",
    "plt.savefig(dir+\"popu.svg\",dpi=600,bbox_inches=\"tight\")"
   ]
  },
  {
   "cell_type": "code",
   "execution_count": null,
   "metadata": {},
   "outputs": [],
   "source": [
    "data=np.loadtxt(dir+\"p_veq1.dat\")\n",
    "plt.xlim(TimeBegin,TimeEnd)\n",
    "ax=plt.plot(data[:,0],data[:,1],'k-',data[:,0],data[:,2],'r-',data[:,0],data[:,3],'b-',data[:,0],data[:,4],'k--',data[:,0],data[:,5],'r--',data[:,0],data[:,6],'b--')\n",
    "plt.ylim(-0.1,1.1)\n",
    "plt.xlabel(\"Time (fs)\")\n",
    "plt.ylabel(\"Population\")\n",
    "plt.legend(['$| 1,0 \\\\rangle$','$| 1,1 \\\\rangle$','$| 1,2 \\\\rangle$','$| 1,3 \\\\rangle$','$|1,4 \\\\rangle$','$| 1,5 \\\\rangle$'])\n",
    "plt.savefig(dir+\"popu.jpeg\",dpi=600,bbox_inches=\"tight\")"
   ]
  },
  {
   "cell_type": "code",
   "execution_count": null,
   "metadata": {},
   "outputs": [],
   "source": []
  }
 ],
 "metadata": {
  "kernelspec": {
   "display_name": "Python 3.9.0 64-bit",
   "language": "python",
   "name": "python3"
  },
  "language_info": {
   "codemirror_mode": {
    "name": "ipython",
    "version": 3
   },
   "file_extension": ".py",
   "mimetype": "text/x-python",
   "name": "python",
   "nbconvert_exporter": "python",
   "pygments_lexer": "ipython3",
   "version": "3.9.0"
  },
  "orig_nbformat": 4,
  "vscode": {
   "interpreter": {
    "hash": "5addf786bcd861d1ce5006f23111f8cbb206731e5b61b0a5632ba9e0252558a8"
   }
  }
 },
 "nbformat": 4,
 "nbformat_minor": 2
}
